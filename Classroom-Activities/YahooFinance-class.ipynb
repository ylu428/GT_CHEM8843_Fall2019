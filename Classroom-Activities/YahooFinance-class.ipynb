{
 "cells": [
  {
   "cell_type": "code",
   "execution_count": 36,
   "metadata": {},
   "outputs": [],
   "source": [
    "import requests as rq\n",
    "import pandas as pd"
   ]
  },
  {
   "cell_type": "code",
   "execution_count": 37,
   "metadata": {},
   "outputs": [],
   "source": [
    "data = {\"Company\":[]}     ### create dictionary to hold ticker symbols\n",
    "wikiURL = 'https://en.wikipedia.org/wiki/List_of_S%26P_500_companies'\n",
    "wikiResponse = rq.get(wikiURL)      ##use requests library to retreive info from webpage\n",
    "tst = wikiResponse.text       #just get the text from the requests object\n"
   ]
  },
  {
   "cell_type": "code",
   "execution_count": 38,
   "metadata": {},
   "outputs": [
    {
     "data": {
      "text/plain": [
       "'<!DOCTYPE html>\\n<html class=\"client-nojs\" lang=\"en\" dir=\"ltr\">\\n<head>\\n<meta charset=\"UTF-8\"/>\\n<title>List of S&amp;P 500 companies - Wikipedia</title>\\n<script>document.documentElement.className=document.documentElement.className.replace(/(^|\\\\s)client-nojs(\\\\s|$)/,\"$1client-js$2\");RLCONF={\"wgCanonicalNamespace\":\"\",\"wgCanonicalSpecialPageName\":!1,\"wgNamespaceNumber\":0,\"wgPageName\":\"List_of_S\\\\u0026P_500_companies\",\"wgTitle\":\"List of S\\\\u0026P 500 companies\",\"wgCurRevisionId\":912848421,\"wgRevisionId\":912848421,\"wgArticleId\":2676045,\"wgIsArticle\":!0,\"wgIsRedirect\":!1,\"wgAction\":\"view\",\"wgUserName\":null,\"wgUserGroups\":[\"*\"],\"wgCategories\":[\"CS1 errors: missing periodical\",\"CS1 errors: deprecated parameters\",\"CS1 maint: archived copy as title\",\"Articles with short description\",\"S\\\\u0026P Dow Jones Indices\",\"Lists of companies\",\"Standard \\\\u0026 Poor\\'s\"],\"wgBreakFrames\":!1,\"wgPageContentLanguage\":\"en\",\"wgPageContentModel\":\"wikitext\",\"wgSeparatorTransformTable\":[\"\",\"\"],\"wgDigitTransformTable\":[\"\",\"'"
      ]
     },
     "execution_count": 38,
     "metadata": {},
     "output_type": "execute_result"
    }
   ],
   "source": [
    "wikiResponse.text[:1000] #ask for the first 1000 characters\n"
   ]
  },
  {
   "cell_type": "markdown",
   "metadata": {},
   "source": [
    "## look at elements in webpage....\n",
    "We probably want table rows, so split text on <tr> and find the right ones.\n",
    "tst is a messy dump of info..."
   ]
  },
  {
   "cell_type": "code",
   "execution_count": 39,
   "metadata": {},
   "outputs": [
    {
     "data": {
      "text/plain": [
       "626002"
      ]
     },
     "execution_count": 39,
     "metadata": {},
     "output_type": "execute_result"
    }
   ],
   "source": [
    "len(tst)"
   ]
  },
  {
   "cell_type": "code",
   "execution_count": 40,
   "metadata": {},
   "outputs": [],
   "source": [
    "tst[:1000];"
   ]
  },
  {
   "cell_type": "code",
   "execution_count": 41,
   "metadata": {},
   "outputs": [],
   "source": [
    "text = tst.split('<tr>') # split the <tr> found in the webpage"
   ]
  },
  {
   "cell_type": "code",
   "execution_count": 42,
   "metadata": {},
   "outputs": [
    {
     "data": {
      "text/plain": [
       "725"
      ]
     },
     "execution_count": 42,
     "metadata": {},
     "output_type": "execute_result"
    }
   ],
   "source": [
    "len(text)"
   ]
  },
  {
   "cell_type": "code",
   "execution_count": 43,
   "metadata": {},
   "outputs": [
    {
     "data": {
      "text/plain": [
       "'\\n<td><a rel=\"nofollow\" class=\"external text\" href=\"https://www.nyse.com/quote/XNYS:MMM\">MMM</a>\\n</td>\\n<td><a href=\"/wiki/3M\" title=\"3M\">3M Company</a></td>\\n<td><a rel=\"nofollow\" class=\"external text\" href=\"https://www.sec.gov/cgi-bin/browse-edgar?CIK=MMM&amp;action=getcompany\">reports</a></td>\\n<td>Industrials</td>\\n<td>Industrial Conglomerates</td>\\n<td><a href=\"/wiki/St._Paul,_Minnesota\" class=\"mw-redirect\" title=\"St. Paul, Minnesota\">St. Paul, Minnesota</a></td>\\n<td></td>\\n<td>0000066740</td>\\n<td>1902\\n</td></tr>\\n'"
      ]
     },
     "execution_count": 43,
     "metadata": {},
     "output_type": "execute_result"
    }
   ],
   "source": [
    "text[2] # index 1 give the title column"
   ]
  },
  {
   "cell_type": "markdown",
   "metadata": {},
   "source": [
    "So, data of interest starts at the 3rd element... extract company ticker. First ticker symbol is MMM. Find bit of string before it... \n",
    "\n",
    "\n",
    "\n",
    "Check the next line to see if this is general:"
   ]
  },
  {
   "cell_type": "code",
   "execution_count": 44,
   "metadata": {},
   "outputs": [],
   "source": [
    "text[2];"
   ]
  },
  {
   "cell_type": "code",
   "execution_count": 45,
   "metadata": {},
   "outputs": [],
   "source": [
    "tick = text[3].split('\">') # choose item before \">"
   ]
  },
  {
   "cell_type": "code",
   "execution_count": 46,
   "metadata": {},
   "outputs": [
    {
     "data": {
      "text/plain": [
       "['\\n<td><a rel=\"nofollow\" class=\"external text\" href=\"https://www.nyse.com/quote/XNYS:ABT',\n",
       " 'ABT</a>\\n</td>\\n<td><a href=\"/wiki/Abbott_Laboratories\" title=\"Abbott Laboratories',\n",
       " 'Abbott Laboratories</a></td>\\n<td><a rel=\"nofollow\" class=\"external text\" href=\"https://www.sec.gov/cgi-bin/browse-edgar?CIK=ABT&amp;action=getcompany',\n",
       " 'reports</a></td>\\n<td>Health Care</td>\\n<td>Health Care Equipment</td>\\n<td><a href=\"/wiki/North_Chicago,_Illinois\" title=\"North Chicago, Illinois',\n",
       " 'North Chicago, Illinois</a></td>\\n<td>1964-03-31</td>\\n<td>0000001800</td>\\n<td>1888\\n</td></tr>\\n']"
      ]
     },
     "execution_count": 46,
     "metadata": {},
     "output_type": "execute_result"
    }
   ],
   "source": [
    "tick"
   ]
  },
  {
   "cell_type": "code",
   "execution_count": 47,
   "metadata": {},
   "outputs": [
    {
     "data": {
      "text/plain": [
       "'\\n<td><a rel=\"nofollow\" class=\"external text\" href=\"https://www.nyse.com/quote/XNYS:ABT'"
      ]
     },
     "execution_count": 47,
     "metadata": {},
     "output_type": "execute_result"
    }
   ],
   "source": [
    "tick[0]"
   ]
  },
  {
   "cell_type": "code",
   "execution_count": 48,
   "metadata": {},
   "outputs": [
    {
     "data": {
      "text/plain": [
       "'ABT</a>\\n</td>\\n<td><a href=\"/wiki/Abbott_Laboratories\" title=\"Abbott Laboratories'"
      ]
     },
     "execution_count": 48,
     "metadata": {},
     "output_type": "execute_result"
    }
   ],
   "source": [
    "tick[1]"
   ]
  },
  {
   "cell_type": "markdown",
   "metadata": {},
   "source": [
    "Ok. So now we need to isolate the ticker symbol... "
   ]
  },
  {
   "cell_type": "code",
   "execution_count": 49,
   "metadata": {},
   "outputs": [
    {
     "name": "stdout",
     "output_type": "stream",
     "text": [
      "ABT\n"
     ]
    }
   ],
   "source": [
    "ticker = tick[1].split('<')\n",
    "print(ticker[0])"
   ]
  },
  {
   "cell_type": "markdown",
   "metadata": {},
   "source": [
    "## try with the next ticker..."
   ]
  },
  {
   "cell_type": "code",
   "execution_count": 50,
   "metadata": {},
   "outputs": [
    {
     "name": "stdout",
     "output_type": "stream",
     "text": [
      "MMM\n"
     ]
    }
   ],
   "source": [
    "tick = text[2].split('\">')\n",
    "ticker =  tick[1].split('<')\n",
    "print(ticker[0])"
   ]
  },
  {
   "cell_type": "markdown",
   "metadata": {},
   "source": [
    "## Great! make a loop."
   ]
  },
  {
   "cell_type": "code",
   "execution_count": 51,
   "metadata": {},
   "outputs": [],
   "source": [
    "for i in range(2,507):  # we check the last compony is on row 506\n",
    "    tick = text[i].split('\">')\n",
    "    ticker =  tick[1].split('<')\n",
    "    data[\"Company\"].append(ticker[0])"
   ]
  },
  {
   "cell_type": "markdown",
   "metadata": {},
   "source": [
    "#### We now have a list of tickers in a dictionary. We can cycle through these to get more info\n",
    "Go to Yahoo finance\n",
    "How will we get this info? \n",
    "\n",
    "Search on yahoo finance and the name of some company:\n",
    "For Apple, get:\n",
    "https://finance.yahoo.com/quote/AAPL?p=AAPL"
   ]
  },
  {
   "cell_type": "code",
   "execution_count": 52,
   "metadata": {},
   "outputs": [
    {
     "data": {
      "text/plain": [
       "{'Company': ['MMM',\n",
       "  'ABT',\n",
       "  'ABBV',\n",
       "  'ABMD',\n",
       "  'ACN',\n",
       "  'ATVI',\n",
       "  'ADBE',\n",
       "  'AMD',\n",
       "  'AAP',\n",
       "  'AES',\n",
       "  'AMG',\n",
       "  'AFL',\n",
       "  'A',\n",
       "  'APD',\n",
       "  'AKAM',\n",
       "  'ALK',\n",
       "  'ALB',\n",
       "  'ARE',\n",
       "  'ALXN',\n",
       "  'ALGN',\n",
       "  'ALLE',\n",
       "  'AGN',\n",
       "  'ADS',\n",
       "  'LNT',\n",
       "  'ALL',\n",
       "  'GOOGL',\n",
       "  'GOOG',\n",
       "  'MO',\n",
       "  'AMZN',\n",
       "  'AMCR',\n",
       "  'AEE',\n",
       "  'AAL',\n",
       "  'AEP',\n",
       "  'AXP',\n",
       "  'AIG',\n",
       "  'AMT',\n",
       "  'AWK',\n",
       "  'AMP',\n",
       "  'ABC',\n",
       "  'AME',\n",
       "  'AMGN',\n",
       "  'APH',\n",
       "  'ADI',\n",
       "  'ANSS',\n",
       "  'ANTM',\n",
       "  'AON',\n",
       "  'AOS',\n",
       "  'APA',\n",
       "  'AIV',\n",
       "  'AAPL',\n",
       "  'AMAT',\n",
       "  'APTV',\n",
       "  'ADM',\n",
       "  'ARNC',\n",
       "  'ANET',\n",
       "  'AJG',\n",
       "  'AIZ',\n",
       "  'ATO',\n",
       "  'T',\n",
       "  'ADSK',\n",
       "  'ADP',\n",
       "  'AZO',\n",
       "  'AVB',\n",
       "  'AVY',\n",
       "  'BHGE',\n",
       "  'BLL',\n",
       "  'BAC',\n",
       "  'BK',\n",
       "  'BAX',\n",
       "  'BBT',\n",
       "  'BDX',\n",
       "  'BRK.B',\n",
       "  'BBY',\n",
       "  'BIIB',\n",
       "  'BLK',\n",
       "  'HRB',\n",
       "  'BA',\n",
       "  'BKNG',\n",
       "  'BWA',\n",
       "  'BXP',\n",
       "  'BSX',\n",
       "  'BMY',\n",
       "  'AVGO',\n",
       "  'BR',\n",
       "  'BF.B',\n",
       "  'CHRW',\n",
       "  'COG',\n",
       "  'CDNS',\n",
       "  'CPB',\n",
       "  'COF',\n",
       "  'CPRI',\n",
       "  'CAH',\n",
       "  'KMX',\n",
       "  'CCL',\n",
       "  'CAT',\n",
       "  'CBOE',\n",
       "  'CBRE',\n",
       "  'CBS',\n",
       "  'CE',\n",
       "  'CELG',\n",
       "  'CNC',\n",
       "  'CNP',\n",
       "  'CTL',\n",
       "  'CERN',\n",
       "  'CF',\n",
       "  'SCHW',\n",
       "  'CHTR',\n",
       "  'CVX',\n",
       "  'CMG',\n",
       "  'CB',\n",
       "  'CHD',\n",
       "  'CI',\n",
       "  'XEC',\n",
       "  'CINF',\n",
       "  'CTAS',\n",
       "  'CSCO',\n",
       "  'C',\n",
       "  'CFG',\n",
       "  'CTXS',\n",
       "  'CLX',\n",
       "  'CME',\n",
       "  'CMS',\n",
       "  'KO',\n",
       "  'CTSH',\n",
       "  'CL',\n",
       "  'CMCSA',\n",
       "  'CMA',\n",
       "  'CAG',\n",
       "  'CXO',\n",
       "  'COP',\n",
       "  'ED',\n",
       "  'STZ',\n",
       "  'COO',\n",
       "  'CPRT',\n",
       "  'GLW',\n",
       "  'CTVA',\n",
       "  'COST',\n",
       "  'COTY',\n",
       "  'CCI',\n",
       "  'CSX',\n",
       "  'CMI',\n",
       "  'CVS',\n",
       "  'DHI',\n",
       "  'DHR',\n",
       "  'DRI',\n",
       "  'DVA',\n",
       "  'DE',\n",
       "  'DAL',\n",
       "  'XRAY',\n",
       "  'DVN',\n",
       "  'FANG',\n",
       "  'DLR',\n",
       "  'DFS',\n",
       "  'DISCA',\n",
       "  'DISCK',\n",
       "  'DISH',\n",
       "  'DG',\n",
       "  'DLTR',\n",
       "  'D',\n",
       "  'DOV',\n",
       "  'DOW',\n",
       "  'DTE',\n",
       "  'DUK',\n",
       "  'DRE',\n",
       "  'DD',\n",
       "  'DXC',\n",
       "  'ETFC',\n",
       "  'EMN',\n",
       "  'ETN',\n",
       "  'EBAY',\n",
       "  'ECL',\n",
       "  'EIX',\n",
       "  'EW',\n",
       "  'EA',\n",
       "  'EMR',\n",
       "  'ETR',\n",
       "  'EOG',\n",
       "  'EFX',\n",
       "  'EQIX',\n",
       "  'EQR',\n",
       "  'ESS',\n",
       "  'EL',\n",
       "  'EVRG',\n",
       "  'ES',\n",
       "  'RE',\n",
       "  'EXC',\n",
       "  'EXPE',\n",
       "  'EXPD',\n",
       "  'EXR',\n",
       "  'XOM',\n",
       "  'FFIV',\n",
       "  'FB',\n",
       "  'FAST',\n",
       "  'FRT',\n",
       "  'FDX',\n",
       "  'FIS',\n",
       "  'FITB',\n",
       "  'FE',\n",
       "  'FRC',\n",
       "  'FISV',\n",
       "  'FLT',\n",
       "  'FLIR',\n",
       "  'FLS',\n",
       "  'FMC',\n",
       "  'F',\n",
       "  'FTNT',\n",
       "  'FTV',\n",
       "  'FBHS',\n",
       "  'FOXA',\n",
       "  'FOX',\n",
       "  'BEN',\n",
       "  'FCX',\n",
       "  'GPS',\n",
       "  'GRMN',\n",
       "  'IT',\n",
       "  'GD',\n",
       "  'GE',\n",
       "  'GIS',\n",
       "  'GM',\n",
       "  'GPC',\n",
       "  'GILD',\n",
       "  'GL',\n",
       "  'GPN',\n",
       "  'GS',\n",
       "  'GWW',\n",
       "  'HAL',\n",
       "  'HBI',\n",
       "  'HOG',\n",
       "  'HIG',\n",
       "  'HAS',\n",
       "  'HCA',\n",
       "  'HCP',\n",
       "  'HP',\n",
       "  'HSIC',\n",
       "  'HSY',\n",
       "  'HES',\n",
       "  'HPE',\n",
       "  'HLT',\n",
       "  'HFC',\n",
       "  'HOLX',\n",
       "  'HD',\n",
       "  'HON',\n",
       "  'HRL',\n",
       "  'HST',\n",
       "  'HPQ',\n",
       "  'HUM',\n",
       "  'HBAN',\n",
       "  'HII',\n",
       "  'IEX',\n",
       "  'IDXX',\n",
       "  'INFO',\n",
       "  'ITW',\n",
       "  'ILMN',\n",
       "  'IR',\n",
       "  'INTC',\n",
       "  'ICE',\n",
       "  'IBM',\n",
       "  'INCY',\n",
       "  'IP',\n",
       "  'IPG',\n",
       "  'IFF',\n",
       "  'INTU',\n",
       "  'ISRG',\n",
       "  'IVZ',\n",
       "  'IPGP',\n",
       "  'IQV',\n",
       "  'IRM',\n",
       "  'JKHY',\n",
       "  'JEC',\n",
       "  'JBHT',\n",
       "  'JEF',\n",
       "  'SJM',\n",
       "  'JNJ',\n",
       "  'JCI',\n",
       "  'JPM',\n",
       "  'JNPR',\n",
       "  'KSU',\n",
       "  'K',\n",
       "  'KEY',\n",
       "  'KEYS',\n",
       "  'KMB',\n",
       "  'KIM',\n",
       "  'KMI',\n",
       "  'KLAC',\n",
       "  'KSS',\n",
       "  'KHC',\n",
       "  'KR',\n",
       "  'LB',\n",
       "  'LHX',\n",
       "  'LH',\n",
       "  'LRCX',\n",
       "  'LW',\n",
       "  'LEG',\n",
       "  'LDOS',\n",
       "  'LEN',\n",
       "  'LLY',\n",
       "  'LNC',\n",
       "  'LIN',\n",
       "  'LKQ',\n",
       "  'LMT',\n",
       "  'L',\n",
       "  'LOW',\n",
       "  'LYB',\n",
       "  'MTB',\n",
       "  'MAC',\n",
       "  'M',\n",
       "  'MRO',\n",
       "  'MPC',\n",
       "  'MKTX',\n",
       "  'MAR',\n",
       "  'MMC',\n",
       "  'MLM',\n",
       "  'MAS',\n",
       "  'MA',\n",
       "  'MKC',\n",
       "  'MXIM',\n",
       "  'MCD',\n",
       "  'MCK',\n",
       "  'MDT',\n",
       "  'MRK',\n",
       "  'MET',\n",
       "  'MTD',\n",
       "  'MGM',\n",
       "  'MCHP',\n",
       "  'MU',\n",
       "  'MSFT',\n",
       "  'MAA',\n",
       "  'MHK',\n",
       "  'TAP',\n",
       "  'MDLZ',\n",
       "  'MNST',\n",
       "  'MCO',\n",
       "  'MS',\n",
       "  'MOS',\n",
       "  'MSI',\n",
       "  'MSCI',\n",
       "  'MYL',\n",
       "  'NDAQ',\n",
       "  'NOV',\n",
       "  'NKTR',\n",
       "  'NTAP',\n",
       "  'NFLX',\n",
       "  'NWL',\n",
       "  'NEM',\n",
       "  'NWSA',\n",
       "  'NWS',\n",
       "  'NEE',\n",
       "  'NLSN',\n",
       "  'NKE',\n",
       "  'NI',\n",
       "  'NBL',\n",
       "  'JWN',\n",
       "  'NSC',\n",
       "  'NTRS',\n",
       "  'NOC',\n",
       "  'NCLH',\n",
       "  'NRG',\n",
       "  'NUE',\n",
       "  'NVDA',\n",
       "  'ORLY',\n",
       "  'OXY',\n",
       "  'OMC',\n",
       "  'OKE',\n",
       "  'ORCL',\n",
       "  'PCAR',\n",
       "  'PKG',\n",
       "  'PH',\n",
       "  'PAYX',\n",
       "  'PYPL',\n",
       "  'PNR',\n",
       "  'PBCT',\n",
       "  'PEP',\n",
       "  'PKI',\n",
       "  'PRGO',\n",
       "  'PFE',\n",
       "  'PM',\n",
       "  'PSX',\n",
       "  'PNW',\n",
       "  'PXD',\n",
       "  'PNC',\n",
       "  'PPG',\n",
       "  'PPL',\n",
       "  'PFG',\n",
       "  'PG',\n",
       "  'PGR',\n",
       "  'PLD',\n",
       "  'PRU',\n",
       "  'PEG',\n",
       "  'PSA',\n",
       "  'PHM',\n",
       "  'PVH',\n",
       "  'QRVO',\n",
       "  'PWR',\n",
       "  'QCOM',\n",
       "  'DGX',\n",
       "  'RL',\n",
       "  'RJF',\n",
       "  'RTN',\n",
       "  'O',\n",
       "  'REG',\n",
       "  'REGN',\n",
       "  'RF',\n",
       "  'RSG',\n",
       "  'RMD',\n",
       "  'RHI',\n",
       "  'ROK',\n",
       "  'ROL',\n",
       "  'ROP',\n",
       "  'ROST',\n",
       "  'RCL',\n",
       "  'CRM',\n",
       "  'SBAC',\n",
       "  'SLB',\n",
       "  'STX',\n",
       "  'SEE',\n",
       "  'SRE',\n",
       "  'SHW',\n",
       "  'SPG',\n",
       "  'SWKS',\n",
       "  'SLG',\n",
       "  'SNA',\n",
       "  'SO',\n",
       "  'LUV',\n",
       "  'SPGI',\n",
       "  'SWK',\n",
       "  'SBUX',\n",
       "  'STT',\n",
       "  'SYK',\n",
       "  'STI',\n",
       "  'SIVB',\n",
       "  'SYMC',\n",
       "  'SYF',\n",
       "  'SNPS',\n",
       "  'SYY',\n",
       "  'TMUS',\n",
       "  'TROW',\n",
       "  'TTWO',\n",
       "  'TPR',\n",
       "  'TGT',\n",
       "  'TEL',\n",
       "  'FTI',\n",
       "  'TFX',\n",
       "  'TXN',\n",
       "  'TXT',\n",
       "  'TMO',\n",
       "  'TIF',\n",
       "  'TWTR',\n",
       "  'TJX',\n",
       "  'TSS',\n",
       "  'TSCO',\n",
       "  'TDG',\n",
       "  'TRV',\n",
       "  'TRIP',\n",
       "  'TSN',\n",
       "  'UDR',\n",
       "  'ULTA',\n",
       "  'USB',\n",
       "  'UAA',\n",
       "  'UA',\n",
       "  'UNP',\n",
       "  'UAL',\n",
       "  'UNH',\n",
       "  'UPS',\n",
       "  'URI',\n",
       "  'UTX',\n",
       "  'UHS',\n",
       "  'UNM',\n",
       "  'VFC',\n",
       "  'VLO',\n",
       "  'VAR',\n",
       "  'VTR',\n",
       "  'VRSN',\n",
       "  'VRSK',\n",
       "  'VZ',\n",
       "  'VRTX',\n",
       "  'VIAB',\n",
       "  'V',\n",
       "  'VNO',\n",
       "  'VMC',\n",
       "  'WAB',\n",
       "  'WMT',\n",
       "  'WBA',\n",
       "  'DIS',\n",
       "  'WM',\n",
       "  'WAT',\n",
       "  'WEC',\n",
       "  'WCG',\n",
       "  'WFC',\n",
       "  'WELL',\n",
       "  'WDC',\n",
       "  'WU',\n",
       "  'WRK',\n",
       "  'WY',\n",
       "  'WHR',\n",
       "  'WMB',\n",
       "  'WLTW',\n",
       "  'WYNN',\n",
       "  'XEL',\n",
       "  'XRX',\n",
       "  'XLNX',\n",
       "  'XYL',\n",
       "  'YUM',\n",
       "  'ZBH',\n",
       "  'ZION',\n",
       "  'ZTS']}"
      ]
     },
     "execution_count": 52,
     "metadata": {},
     "output_type": "execute_result"
    }
   ],
   "source": [
    "data"
   ]
  },
  {
   "cell_type": "code",
   "execution_count": 53,
   "metadata": {},
   "outputs": [],
   "source": [
    "url = 'https://finance.yahoo.com/quote/'+data[\"Company\"][0]"
   ]
  },
  {
   "cell_type": "code",
   "execution_count": 54,
   "metadata": {},
   "outputs": [
    {
     "data": {
      "text/plain": [
       "'https://finance.yahoo.com/quote/MMM'"
      ]
     },
     "execution_count": 54,
     "metadata": {},
     "output_type": "execute_result"
    }
   ],
   "source": [
    "url"
   ]
  },
  {
   "cell_type": "markdown",
   "metadata": {},
   "source": [
    "Assuming this works, let's figure out what info we want."
   ]
  },
  {
   "cell_type": "code",
   "execution_count": 55,
   "metadata": {},
   "outputs": [],
   "source": [
    "Indicators = {'Open':[]}\n"
   ]
  },
  {
   "cell_type": "code",
   "execution_count": 56,
   "metadata": {},
   "outputs": [
    {
     "name": "stdout",
     "output_type": "stream",
     "text": [
      "557365\n",
      "<!DOCTYPE html><html id=\"atomic\" class=\"NoJs featurephone\" lang=\"en-US\"><head prefix=\"og: http://ogp.me/ns#\"><script>window.performance && window.performance.mark && window.performance.mark('PageStart');</script><meta charset=\"utf-8\"/><title>3M Company (MMM) Stock Price, Quote, History &amp; News</title><meta name=\"keywords\" content=\"MMM, 3M Company, MMM stock chart, 3M Company stock chart, stock chart, stocks, quotes, finance\"/><meta http-equiv=\"x-dns-prefetch-control\" content=\"on\"/><meta property=\"twitter:dnt\" content=\"on\"/><meta property=\"fb:app_id\" content=\"90376669494\"/><meta name=\"theme-color\" content=\"#400090\"/><meta name=\"viewport\" content=\"width=device-width, initial-scale=1\"/><meta name=\"description\" lang=\"en-US\" content=\"Find the latest 3M Company (MMM) stock quote, history, news and other vital information to help you with your stock trading and investing.\"/><meta name=\"oath:guce:consent-host\" content=\"guce.yahoo.com\"/><meta name=\"msvalidate.01\" content=\"A9862C0E6E1BE95BCE0\n"
     ]
    }
   ],
   "source": [
    "yahooResponse = rq.get(url).text\n",
    "##figure out what to split on and what markers are relevant to isolating the relevant info\n",
    "print(len(yahooResponse.split('161.40')[0]))\n",
    "print(yahooResponse.split('161.40')[0][:1000]);"
   ]
  },
  {
   "cell_type": "markdown",
   "metadata": {},
   "source": [
    "So, if we split on \"Open\", there are 2 values prior to the actual price?"
   ]
  },
  {
   "cell_type": "code",
   "execution_count": 57,
   "metadata": {},
   "outputs": [],
   "source": [
    "tmp=yahooResponse.split('Open') ## we want something close to the beginning of this"
   ]
  },
  {
   "cell_type": "code",
   "execution_count": 58,
   "metadata": {},
   "outputs": [
    {
     "data": {
      "text/plain": [
       "'</span></td><td class=\"Ta(end) Fw(600) Lh(14px)\" data-test=\"OPEN-value\" data-reactid=\"20\"><span class=\"Trsdu(0.3s) \" data-reactid=\"21\">162.50</span></td></tr><tr class=\"Bxz(bb) Bdbw(1px) Bdbs(s) Bdc($'"
      ]
     },
     "execution_count": 58,
     "metadata": {},
     "output_type": "execute_result"
    }
   ],
   "source": [
    "tmp[1][:200]"
   ]
  },
  {
   "cell_type": "code",
   "execution_count": 59,
   "metadata": {},
   "outputs": [
    {
     "data": {
      "text/plain": [
       "{'Company': ['MMM',\n",
       "  'ABT',\n",
       "  'ABBV',\n",
       "  'ABMD',\n",
       "  'ACN',\n",
       "  'ATVI',\n",
       "  'ADBE',\n",
       "  'AMD',\n",
       "  'AAP',\n",
       "  'AES',\n",
       "  'AMG',\n",
       "  'AFL',\n",
       "  'A',\n",
       "  'APD',\n",
       "  'AKAM',\n",
       "  'ALK',\n",
       "  'ALB',\n",
       "  'ARE',\n",
       "  'ALXN',\n",
       "  'ALGN',\n",
       "  'ALLE',\n",
       "  'AGN',\n",
       "  'ADS',\n",
       "  'LNT',\n",
       "  'ALL',\n",
       "  'GOOGL',\n",
       "  'GOOG',\n",
       "  'MO',\n",
       "  'AMZN',\n",
       "  'AMCR',\n",
       "  'AEE',\n",
       "  'AAL',\n",
       "  'AEP',\n",
       "  'AXP',\n",
       "  'AIG',\n",
       "  'AMT',\n",
       "  'AWK',\n",
       "  'AMP',\n",
       "  'ABC',\n",
       "  'AME',\n",
       "  'AMGN',\n",
       "  'APH',\n",
       "  'ADI',\n",
       "  'ANSS',\n",
       "  'ANTM',\n",
       "  'AON',\n",
       "  'AOS',\n",
       "  'APA',\n",
       "  'AIV',\n",
       "  'AAPL',\n",
       "  'AMAT',\n",
       "  'APTV',\n",
       "  'ADM',\n",
       "  'ARNC',\n",
       "  'ANET',\n",
       "  'AJG',\n",
       "  'AIZ',\n",
       "  'ATO',\n",
       "  'T',\n",
       "  'ADSK',\n",
       "  'ADP',\n",
       "  'AZO',\n",
       "  'AVB',\n",
       "  'AVY',\n",
       "  'BHGE',\n",
       "  'BLL',\n",
       "  'BAC',\n",
       "  'BK',\n",
       "  'BAX',\n",
       "  'BBT',\n",
       "  'BDX',\n",
       "  'BRK.B',\n",
       "  'BBY',\n",
       "  'BIIB',\n",
       "  'BLK',\n",
       "  'HRB',\n",
       "  'BA',\n",
       "  'BKNG',\n",
       "  'BWA',\n",
       "  'BXP',\n",
       "  'BSX',\n",
       "  'BMY',\n",
       "  'AVGO',\n",
       "  'BR',\n",
       "  'BF.B',\n",
       "  'CHRW',\n",
       "  'COG',\n",
       "  'CDNS',\n",
       "  'CPB',\n",
       "  'COF',\n",
       "  'CPRI',\n",
       "  'CAH',\n",
       "  'KMX',\n",
       "  'CCL',\n",
       "  'CAT',\n",
       "  'CBOE',\n",
       "  'CBRE',\n",
       "  'CBS',\n",
       "  'CE',\n",
       "  'CELG',\n",
       "  'CNC',\n",
       "  'CNP',\n",
       "  'CTL',\n",
       "  'CERN',\n",
       "  'CF',\n",
       "  'SCHW',\n",
       "  'CHTR',\n",
       "  'CVX',\n",
       "  'CMG',\n",
       "  'CB',\n",
       "  'CHD',\n",
       "  'CI',\n",
       "  'XEC',\n",
       "  'CINF',\n",
       "  'CTAS',\n",
       "  'CSCO',\n",
       "  'C',\n",
       "  'CFG',\n",
       "  'CTXS',\n",
       "  'CLX',\n",
       "  'CME',\n",
       "  'CMS',\n",
       "  'KO',\n",
       "  'CTSH',\n",
       "  'CL',\n",
       "  'CMCSA',\n",
       "  'CMA',\n",
       "  'CAG',\n",
       "  'CXO',\n",
       "  'COP',\n",
       "  'ED',\n",
       "  'STZ',\n",
       "  'COO',\n",
       "  'CPRT',\n",
       "  'GLW',\n",
       "  'CTVA',\n",
       "  'COST',\n",
       "  'COTY',\n",
       "  'CCI',\n",
       "  'CSX',\n",
       "  'CMI',\n",
       "  'CVS',\n",
       "  'DHI',\n",
       "  'DHR',\n",
       "  'DRI',\n",
       "  'DVA',\n",
       "  'DE',\n",
       "  'DAL',\n",
       "  'XRAY',\n",
       "  'DVN',\n",
       "  'FANG',\n",
       "  'DLR',\n",
       "  'DFS',\n",
       "  'DISCA',\n",
       "  'DISCK',\n",
       "  'DISH',\n",
       "  'DG',\n",
       "  'DLTR',\n",
       "  'D',\n",
       "  'DOV',\n",
       "  'DOW',\n",
       "  'DTE',\n",
       "  'DUK',\n",
       "  'DRE',\n",
       "  'DD',\n",
       "  'DXC',\n",
       "  'ETFC',\n",
       "  'EMN',\n",
       "  'ETN',\n",
       "  'EBAY',\n",
       "  'ECL',\n",
       "  'EIX',\n",
       "  'EW',\n",
       "  'EA',\n",
       "  'EMR',\n",
       "  'ETR',\n",
       "  'EOG',\n",
       "  'EFX',\n",
       "  'EQIX',\n",
       "  'EQR',\n",
       "  'ESS',\n",
       "  'EL',\n",
       "  'EVRG',\n",
       "  'ES',\n",
       "  'RE',\n",
       "  'EXC',\n",
       "  'EXPE',\n",
       "  'EXPD',\n",
       "  'EXR',\n",
       "  'XOM',\n",
       "  'FFIV',\n",
       "  'FB',\n",
       "  'FAST',\n",
       "  'FRT',\n",
       "  'FDX',\n",
       "  'FIS',\n",
       "  'FITB',\n",
       "  'FE',\n",
       "  'FRC',\n",
       "  'FISV',\n",
       "  'FLT',\n",
       "  'FLIR',\n",
       "  'FLS',\n",
       "  'FMC',\n",
       "  'F',\n",
       "  'FTNT',\n",
       "  'FTV',\n",
       "  'FBHS',\n",
       "  'FOXA',\n",
       "  'FOX',\n",
       "  'BEN',\n",
       "  'FCX',\n",
       "  'GPS',\n",
       "  'GRMN',\n",
       "  'IT',\n",
       "  'GD',\n",
       "  'GE',\n",
       "  'GIS',\n",
       "  'GM',\n",
       "  'GPC',\n",
       "  'GILD',\n",
       "  'GL',\n",
       "  'GPN',\n",
       "  'GS',\n",
       "  'GWW',\n",
       "  'HAL',\n",
       "  'HBI',\n",
       "  'HOG',\n",
       "  'HIG',\n",
       "  'HAS',\n",
       "  'HCA',\n",
       "  'HCP',\n",
       "  'HP',\n",
       "  'HSIC',\n",
       "  'HSY',\n",
       "  'HES',\n",
       "  'HPE',\n",
       "  'HLT',\n",
       "  'HFC',\n",
       "  'HOLX',\n",
       "  'HD',\n",
       "  'HON',\n",
       "  'HRL',\n",
       "  'HST',\n",
       "  'HPQ',\n",
       "  'HUM',\n",
       "  'HBAN',\n",
       "  'HII',\n",
       "  'IEX',\n",
       "  'IDXX',\n",
       "  'INFO',\n",
       "  'ITW',\n",
       "  'ILMN',\n",
       "  'IR',\n",
       "  'INTC',\n",
       "  'ICE',\n",
       "  'IBM',\n",
       "  'INCY',\n",
       "  'IP',\n",
       "  'IPG',\n",
       "  'IFF',\n",
       "  'INTU',\n",
       "  'ISRG',\n",
       "  'IVZ',\n",
       "  'IPGP',\n",
       "  'IQV',\n",
       "  'IRM',\n",
       "  'JKHY',\n",
       "  'JEC',\n",
       "  'JBHT',\n",
       "  'JEF',\n",
       "  'SJM',\n",
       "  'JNJ',\n",
       "  'JCI',\n",
       "  'JPM',\n",
       "  'JNPR',\n",
       "  'KSU',\n",
       "  'K',\n",
       "  'KEY',\n",
       "  'KEYS',\n",
       "  'KMB',\n",
       "  'KIM',\n",
       "  'KMI',\n",
       "  'KLAC',\n",
       "  'KSS',\n",
       "  'KHC',\n",
       "  'KR',\n",
       "  'LB',\n",
       "  'LHX',\n",
       "  'LH',\n",
       "  'LRCX',\n",
       "  'LW',\n",
       "  'LEG',\n",
       "  'LDOS',\n",
       "  'LEN',\n",
       "  'LLY',\n",
       "  'LNC',\n",
       "  'LIN',\n",
       "  'LKQ',\n",
       "  'LMT',\n",
       "  'L',\n",
       "  'LOW',\n",
       "  'LYB',\n",
       "  'MTB',\n",
       "  'MAC',\n",
       "  'M',\n",
       "  'MRO',\n",
       "  'MPC',\n",
       "  'MKTX',\n",
       "  'MAR',\n",
       "  'MMC',\n",
       "  'MLM',\n",
       "  'MAS',\n",
       "  'MA',\n",
       "  'MKC',\n",
       "  'MXIM',\n",
       "  'MCD',\n",
       "  'MCK',\n",
       "  'MDT',\n",
       "  'MRK',\n",
       "  'MET',\n",
       "  'MTD',\n",
       "  'MGM',\n",
       "  'MCHP',\n",
       "  'MU',\n",
       "  'MSFT',\n",
       "  'MAA',\n",
       "  'MHK',\n",
       "  'TAP',\n",
       "  'MDLZ',\n",
       "  'MNST',\n",
       "  'MCO',\n",
       "  'MS',\n",
       "  'MOS',\n",
       "  'MSI',\n",
       "  'MSCI',\n",
       "  'MYL',\n",
       "  'NDAQ',\n",
       "  'NOV',\n",
       "  'NKTR',\n",
       "  'NTAP',\n",
       "  'NFLX',\n",
       "  'NWL',\n",
       "  'NEM',\n",
       "  'NWSA',\n",
       "  'NWS',\n",
       "  'NEE',\n",
       "  'NLSN',\n",
       "  'NKE',\n",
       "  'NI',\n",
       "  'NBL',\n",
       "  'JWN',\n",
       "  'NSC',\n",
       "  'NTRS',\n",
       "  'NOC',\n",
       "  'NCLH',\n",
       "  'NRG',\n",
       "  'NUE',\n",
       "  'NVDA',\n",
       "  'ORLY',\n",
       "  'OXY',\n",
       "  'OMC',\n",
       "  'OKE',\n",
       "  'ORCL',\n",
       "  'PCAR',\n",
       "  'PKG',\n",
       "  'PH',\n",
       "  'PAYX',\n",
       "  'PYPL',\n",
       "  'PNR',\n",
       "  'PBCT',\n",
       "  'PEP',\n",
       "  'PKI',\n",
       "  'PRGO',\n",
       "  'PFE',\n",
       "  'PM',\n",
       "  'PSX',\n",
       "  'PNW',\n",
       "  'PXD',\n",
       "  'PNC',\n",
       "  'PPG',\n",
       "  'PPL',\n",
       "  'PFG',\n",
       "  'PG',\n",
       "  'PGR',\n",
       "  'PLD',\n",
       "  'PRU',\n",
       "  'PEG',\n",
       "  'PSA',\n",
       "  'PHM',\n",
       "  'PVH',\n",
       "  'QRVO',\n",
       "  'PWR',\n",
       "  'QCOM',\n",
       "  'DGX',\n",
       "  'RL',\n",
       "  'RJF',\n",
       "  'RTN',\n",
       "  'O',\n",
       "  'REG',\n",
       "  'REGN',\n",
       "  'RF',\n",
       "  'RSG',\n",
       "  'RMD',\n",
       "  'RHI',\n",
       "  'ROK',\n",
       "  'ROL',\n",
       "  'ROP',\n",
       "  'ROST',\n",
       "  'RCL',\n",
       "  'CRM',\n",
       "  'SBAC',\n",
       "  'SLB',\n",
       "  'STX',\n",
       "  'SEE',\n",
       "  'SRE',\n",
       "  'SHW',\n",
       "  'SPG',\n",
       "  'SWKS',\n",
       "  'SLG',\n",
       "  'SNA',\n",
       "  'SO',\n",
       "  'LUV',\n",
       "  'SPGI',\n",
       "  'SWK',\n",
       "  'SBUX',\n",
       "  'STT',\n",
       "  'SYK',\n",
       "  'STI',\n",
       "  'SIVB',\n",
       "  'SYMC',\n",
       "  'SYF',\n",
       "  'SNPS',\n",
       "  'SYY',\n",
       "  'TMUS',\n",
       "  'TROW',\n",
       "  'TTWO',\n",
       "  'TPR',\n",
       "  'TGT',\n",
       "  'TEL',\n",
       "  'FTI',\n",
       "  'TFX',\n",
       "  'TXN',\n",
       "  'TXT',\n",
       "  'TMO',\n",
       "  'TIF',\n",
       "  'TWTR',\n",
       "  'TJX',\n",
       "  'TSS',\n",
       "  'TSCO',\n",
       "  'TDG',\n",
       "  'TRV',\n",
       "  'TRIP',\n",
       "  'TSN',\n",
       "  'UDR',\n",
       "  'ULTA',\n",
       "  'USB',\n",
       "  'UAA',\n",
       "  'UA',\n",
       "  'UNP',\n",
       "  'UAL',\n",
       "  'UNH',\n",
       "  'UPS',\n",
       "  'URI',\n",
       "  'UTX',\n",
       "  'UHS',\n",
       "  'UNM',\n",
       "  'VFC',\n",
       "  'VLO',\n",
       "  'VAR',\n",
       "  'VTR',\n",
       "  'VRSN',\n",
       "  'VRSK',\n",
       "  'VZ',\n",
       "  'VRTX',\n",
       "  'VIAB',\n",
       "  'V',\n",
       "  'VNO',\n",
       "  'VMC',\n",
       "  'WAB',\n",
       "  'WMT',\n",
       "  'WBA',\n",
       "  'DIS',\n",
       "  'WM',\n",
       "  'WAT',\n",
       "  'WEC',\n",
       "  'WCG',\n",
       "  'WFC',\n",
       "  'WELL',\n",
       "  'WDC',\n",
       "  'WU',\n",
       "  'WRK',\n",
       "  'WY',\n",
       "  'WHR',\n",
       "  'WMB',\n",
       "  'WLTW',\n",
       "  'WYNN',\n",
       "  'XEL',\n",
       "  'XRX',\n",
       "  'XLNX',\n",
       "  'XYL',\n",
       "  'YUM',\n",
       "  'ZBH',\n",
       "  'ZION',\n",
       "  'ZTS'],\n",
       " 'Open': []}"
      ]
     },
     "execution_count": 59,
     "metadata": {},
     "output_type": "execute_result"
    }
   ],
   "source": [
    "data[\"Open\"]=[] ## create array within the dictionary data to hold info\n",
    "data"
   ]
  },
  {
   "cell_type": "markdown",
   "metadata": {},
   "source": [
    "Loop through the companies/tickers to get Open info for each (tip: use only a subset of all companies to test.... otherwise will take a long time)."
   ]
  },
  {
   "cell_type": "code",
   "execution_count": 98,
   "metadata": {},
   "outputs": [
    {
     "name": "stdout",
     "output_type": "stream",
     "text": [
      "ZTS\n"
     ]
    }
   ],
   "source": [
    "for company in data[\"Company\"]:\n",
    "    url= 'https://finance.yahoo.com/quote/'+ company\n",
    "    yahooResponse = rq.get(url).text\n",
    "    try:\n",
    "        splitlist = yahooResponse.split('Open')[1]\n",
    "        afterFirstSplit = splitList.split('\">')[2]\n",
    "        afterSecondSplit = afterFirstSplit.split('<')\n",
    "        data[\"Open\"].append(afterSecondSplit[0])\n",
    "    except:\n",
    "        data[\"Open\"].append(\"N/A\")\n",
    "print(company)"
   ]
  },
  {
   "cell_type": "code",
   "execution_count": 99,
   "metadata": {},
   "outputs": [],
   "source": [
    "data = {\"Company\":[]}     ### create dictionary to hold ticker symbols\n",
    "wikiURL = 'https://en.wikipedia.org/wiki/List_of_S%26P_500_companies'\n",
    "wikiResponse = rq.get(wikiURL)      ##use requests library to retreive info from webpage\n",
    "tst = wikiResponse.text       #just get the text from the requests object"
   ]
  },
  {
   "cell_type": "code",
   "execution_count": 100,
   "metadata": {},
   "outputs": [],
   "source": [
    "for i in range(2,507):  # we check the last compony is on row 506\n",
    "    tick = text[i].split('\">')\n",
    "    ticker =  tick[1].split('<')\n",
    "    data[\"Company\"].append(ticker[0])"
   ]
  },
  {
   "cell_type": "code",
   "execution_count": 101,
   "metadata": {},
   "outputs": [
    {
     "name": "stdout",
     "output_type": "stream",
     "text": [
      "{'Company': ['MMM', 'ABT', 'ABBV', 'ABMD', 'ACN', 'ATVI', 'ADBE', 'AMD', 'AAP', 'AES', 'AMG', 'AFL', 'A', 'APD', 'AKAM', 'ALK', 'ALB', 'ARE', 'ALXN', 'ALGN', 'ALLE', 'AGN', 'ADS', 'LNT', 'ALL', 'GOOGL', 'GOOG', 'MO', 'AMZN', 'AMCR', 'AEE', 'AAL', 'AEP', 'AXP', 'AIG', 'AMT', 'AWK', 'AMP', 'ABC', 'AME', 'AMGN', 'APH', 'ADI', 'ANSS', 'ANTM', 'AON', 'AOS', 'APA', 'AIV', 'AAPL', 'AMAT', 'APTV', 'ADM', 'ARNC', 'ANET', 'AJG', 'AIZ', 'ATO', 'T', 'ADSK', 'ADP', 'AZO', 'AVB', 'AVY', 'BHGE', 'BLL', 'BAC', 'BK', 'BAX', 'BBT', 'BDX', 'BRK.B', 'BBY', 'BIIB', 'BLK', 'HRB', 'BA', 'BKNG', 'BWA', 'BXP', 'BSX', 'BMY', 'AVGO', 'BR', 'BF.B', 'CHRW', 'COG', 'CDNS', 'CPB', 'COF', 'CPRI', 'CAH', 'KMX', 'CCL', 'CAT', 'CBOE', 'CBRE', 'CBS', 'CE', 'CELG', 'CNC', 'CNP', 'CTL', 'CERN', 'CF', 'SCHW', 'CHTR', 'CVX', 'CMG', 'CB', 'CHD', 'CI', 'XEC', 'CINF', 'CTAS', 'CSCO', 'C', 'CFG', 'CTXS', 'CLX', 'CME', 'CMS', 'KO', 'CTSH', 'CL', 'CMCSA', 'CMA', 'CAG', 'CXO', 'COP', 'ED', 'STZ', 'COO', 'CPRT', 'GLW', 'CTVA', 'COST', 'COTY', 'CCI', 'CSX', 'CMI', 'CVS', 'DHI', 'DHR', 'DRI', 'DVA', 'DE', 'DAL', 'XRAY', 'DVN', 'FANG', 'DLR', 'DFS', 'DISCA', 'DISCK', 'DISH', 'DG', 'DLTR', 'D', 'DOV', 'DOW', 'DTE', 'DUK', 'DRE', 'DD', 'DXC', 'ETFC', 'EMN', 'ETN', 'EBAY', 'ECL', 'EIX', 'EW', 'EA', 'EMR', 'ETR', 'EOG', 'EFX', 'EQIX', 'EQR', 'ESS', 'EL', 'EVRG', 'ES', 'RE', 'EXC', 'EXPE', 'EXPD', 'EXR', 'XOM', 'FFIV', 'FB', 'FAST', 'FRT', 'FDX', 'FIS', 'FITB', 'FE', 'FRC', 'FISV', 'FLT', 'FLIR', 'FLS', 'FMC', 'F', 'FTNT', 'FTV', 'FBHS', 'FOXA', 'FOX', 'BEN', 'FCX', 'GPS', 'GRMN', 'IT', 'GD', 'GE', 'GIS', 'GM', 'GPC', 'GILD', 'GL', 'GPN', 'GS', 'GWW', 'HAL', 'HBI', 'HOG', 'HIG', 'HAS', 'HCA', 'HCP', 'HP', 'HSIC', 'HSY', 'HES', 'HPE', 'HLT', 'HFC', 'HOLX', 'HD', 'HON', 'HRL', 'HST', 'HPQ', 'HUM', 'HBAN', 'HII', 'IEX', 'IDXX', 'INFO', 'ITW', 'ILMN', 'IR', 'INTC', 'ICE', 'IBM', 'INCY', 'IP', 'IPG', 'IFF', 'INTU', 'ISRG', 'IVZ', 'IPGP', 'IQV', 'IRM', 'JKHY', 'JEC', 'JBHT', 'JEF', 'SJM', 'JNJ', 'JCI', 'JPM', 'JNPR', 'KSU', 'K', 'KEY', 'KEYS', 'KMB', 'KIM', 'KMI', 'KLAC', 'KSS', 'KHC', 'KR', 'LB', 'LHX', 'LH', 'LRCX', 'LW', 'LEG', 'LDOS', 'LEN', 'LLY', 'LNC', 'LIN', 'LKQ', 'LMT', 'L', 'LOW', 'LYB', 'MTB', 'MAC', 'M', 'MRO', 'MPC', 'MKTX', 'MAR', 'MMC', 'MLM', 'MAS', 'MA', 'MKC', 'MXIM', 'MCD', 'MCK', 'MDT', 'MRK', 'MET', 'MTD', 'MGM', 'MCHP', 'MU', 'MSFT', 'MAA', 'MHK', 'TAP', 'MDLZ', 'MNST', 'MCO', 'MS', 'MOS', 'MSI', 'MSCI', 'MYL', 'NDAQ', 'NOV', 'NKTR', 'NTAP', 'NFLX', 'NWL', 'NEM', 'NWSA', 'NWS', 'NEE', 'NLSN', 'NKE', 'NI', 'NBL', 'JWN', 'NSC', 'NTRS', 'NOC', 'NCLH', 'NRG', 'NUE', 'NVDA', 'ORLY', 'OXY', 'OMC', 'OKE', 'ORCL', 'PCAR', 'PKG', 'PH', 'PAYX', 'PYPL', 'PNR', 'PBCT', 'PEP', 'PKI', 'PRGO', 'PFE', 'PM', 'PSX', 'PNW', 'PXD', 'PNC', 'PPG', 'PPL', 'PFG', 'PG', 'PGR', 'PLD', 'PRU', 'PEG', 'PSA', 'PHM', 'PVH', 'QRVO', 'PWR', 'QCOM', 'DGX', 'RL', 'RJF', 'RTN', 'O', 'REG', 'REGN', 'RF', 'RSG', 'RMD', 'RHI', 'ROK', 'ROL', 'ROP', 'ROST', 'RCL', 'CRM', 'SBAC', 'SLB', 'STX', 'SEE', 'SRE', 'SHW', 'SPG', 'SWKS', 'SLG', 'SNA', 'SO', 'LUV', 'SPGI', 'SWK', 'SBUX', 'STT', 'SYK', 'STI', 'SIVB', 'SYMC', 'SYF', 'SNPS', 'SYY', 'TMUS', 'TROW', 'TTWO', 'TPR', 'TGT', 'TEL', 'FTI', 'TFX', 'TXN', 'TXT', 'TMO', 'TIF', 'TWTR', 'TJX', 'TSS', 'TSCO', 'TDG', 'TRV', 'TRIP', 'TSN', 'UDR', 'ULTA', 'USB', 'UAA', 'UA', 'UNP', 'UAL', 'UNH', 'UPS', 'URI', 'UTX', 'UHS', 'UNM', 'VFC', 'VLO', 'VAR', 'VTR', 'VRSN', 'VRSK', 'VZ', 'VRTX', 'VIAB', 'V', 'VNO', 'VMC', 'WAB', 'WMT', 'WBA', 'DIS', 'WM', 'WAT', 'WEC', 'WCG', 'WFC', 'WELL', 'WDC', 'WU', 'WRK', 'WY', 'WHR', 'WMB', 'WLTW', 'WYNN', 'XEL', 'XRX', 'XLNX', 'XYL', 'YUM', 'ZBH', 'ZION', 'ZTS']}\n"
     ]
    }
   ],
   "source": [
    "print(data)"
   ]
  },
  {
   "cell_type": "markdown",
   "metadata": {},
   "source": [
    "Hmm.. some issues. \n",
    "\n",
    "Learn about Exception handling...\n",
    "\n",
    "try:\n",
    "\n",
    "except:"
   ]
  },
  {
   "cell_type": "code",
   "execution_count": 61,
   "metadata": {},
   "outputs": [
    {
     "ename": "SyntaxError",
     "evalue": "invalid syntax (<ipython-input-61-feef9edad354>, line 1)",
     "output_type": "error",
     "traceback": [
      "\u001b[1;36m  File \u001b[1;32m\"<ipython-input-61-feef9edad354>\"\u001b[1;36m, line \u001b[1;32m1\u001b[0m\n\u001b[1;33m    for :\u001b[0m\n\u001b[1;37m        ^\u001b[0m\n\u001b[1;31mSyntaxError\u001b[0m\u001b[1;31m:\u001b[0m invalid syntax\n"
     ]
    }
   ],
   "source": [
    "for :\n",
    "\n",
    "    try:\n",
    "\n",
    "        \n",
    "    except:\n",
    "        "
   ]
  },
  {
   "cell_type": "markdown",
   "metadata": {},
   "source": [
    "#### Putting it all together:"
   ]
  },
  {
   "cell_type": "code",
<<<<<<< HEAD
   "execution_count": 5,
=======
   "execution_count": 102,
>>>>>>> cf16f1ca8a5dd6a3ecabb16ff6fb8b855ca9f4fa
   "metadata": {},
   "outputs": [],
   "source": [
    "Indicators = {'Previous Close':[],\n",
    "              'Open':[],\n",
    "              'Bid':[],\n",
    "              'Ask':[],\n",
    "              'PE Ratio':[],\n",
    "              'Volume':[],\n",
    "              \"Avg. Volume\":[],\n",
    "              'Market Cap':[],\n",
    "              'Beta':[],\n",
    "              'EPS (TTM)':[]}"
   ]
  },
  {
   "cell_type": "code",
<<<<<<< HEAD
   "execution_count": 6,
=======
   "execution_count": 103,
>>>>>>> cf16f1ca8a5dd6a3ecabb16ff6fb8b855ca9f4fa
   "metadata": {},
   "outputs": [],
   "source": [
    "import pandas as pd\n",
    "import requests as rq"
   ]
  },
  {
   "cell_type": "code",
<<<<<<< HEAD
   "execution_count": 7,
   "metadata": {},
   "outputs": [],
   "source": [
    "data = {\"Company\":[]} ### create dictionary to hold ticker symbols\n",
    "wikiURL = 'https://en.wikipedia.org/wiki/List_of_S%26P_500_companies'\n",
    "wikiResponse = rq.get(wikiURL)##use requests library to retreive info from webpage\n",
    "tst = wikiResponse.text #just get the text from the requests object\n",
    "text = tst.split(\"<tr>\")"
   ]
  },
  {
   "cell_type": "code",
   "execution_count": 8,
   "metadata": {},
   "outputs": [],
   "source": [
    "for i in range(2,507):\n",
    "    tick=text[i].split('\">')\n",
    "    ticker = tick[1].split('<')\n",
    "    data[\"Company\"].append(ticker[0])## append each ticker symbol to our dictionary"
   ]
  },
  {
   "cell_type": "code",
   "execution_count": 10,
=======
   "execution_count": 104,
>>>>>>> cf16f1ca8a5dd6a3ecabb16ff6fb8b855ca9f4fa
   "metadata": {},
   "outputs": [],
   "source": [
    "for company in data[\"Company\"]:\n",
<<<<<<< HEAD
    "    url = 'https://finance.yahoo.com/quote/'+company+'?p='+company\n",
    "    yahooResponse = rq.get(url).text\n",
    "    for ind in Indicators:\n",
    "        try:\n",
    "            splitList = yahooResponse.split(ind)\n",
    "            afterFirstSplit = splitList[1].split('\">')[2] ## we want element 2 of this array\n",
    "            afterSecSplit = afterFirstSplit.split('</span>')## this should isolate the value we want\n",
    "            dataVal = afterSecSplit[0]\n",
    "            Indicators[ind].append(dataVal)\n",
    "        except:\n",
    "            Indicators[ind].append('N/A')"
   ]
  },
  {
=======
    "    url= 'https://finance.yahoo.com/quote/'+ company\n",
    "    yahooResponse = rq.get(url).text\n",
    "    for ind in Indicators:\n",
    "        try:\n",
    "            splitlist = yahooResponse.split(ind)[1]\n",
    "            afterFirstSplit = splitList.split('\">')[2]\n",
    "            afterSecondSplit = afterFirstSplit.split('<')\n",
    "            Indicators[ind].append(afterSecondSplit[0])\n",
    "        except:\n",
    "            Indicators[ind].append(\"N/A\")\n"
   ]
  },
  {
   "cell_type": "code",
   "execution_count": null,
   "metadata": {},
   "outputs": [],
   "source": []
  },
  {
>>>>>>> cf16f1ca8a5dd6a3ecabb16ff6fb8b855ca9f4fa
   "cell_type": "markdown",
   "metadata": {},
   "source": [
    "### Update dictionary and create pandas dataframe:"
   ]
  },
  {
   "cell_type": "code",
<<<<<<< HEAD
   "execution_count": 11,
=======
   "execution_count": 105,
>>>>>>> cf16f1ca8a5dd6a3ecabb16ff6fb8b855ca9f4fa
   "metadata": {},
   "outputs": [
    {
     "data": {
      "text/html": [
       "<div>\n",
       "<style scoped>\n",
       "    .dataframe tbody tr th:only-of-type {\n",
       "        vertical-align: middle;\n",
       "    }\n",
       "\n",
       "    .dataframe tbody tr th {\n",
       "        vertical-align: top;\n",
       "    }\n",
       "\n",
       "    .dataframe thead th {\n",
       "        text-align: right;\n",
       "    }\n",
       "</style>\n",
       "<table border=\"1\" class=\"dataframe\">\n",
       "  <thead>\n",
       "    <tr style=\"text-align: right;\">\n",
       "      <th></th>\n",
       "      <th>Company</th>\n",
       "      <th>Previous Close</th>\n",
       "      <th>Open</th>\n",
       "      <th>Bid</th>\n",
       "      <th>Ask</th>\n",
       "      <th>PE Ratio</th>\n",
       "      <th>Volume</th>\n",
       "      <th>Avg. Volume</th>\n",
       "      <th>Market Cap</th>\n",
       "      <th>Beta</th>\n",
       "      <th>EPS (TTM)</th>\n",
       "    </tr>\n",
       "  </thead>\n",
       "  <tbody>\n",
       "    <tr>\n",
       "      <th>0</th>\n",
       "      <td>MMM</td>\n",
<<<<<<< HEAD
       "      <td>164.23</td>\n",
       "      <td>164.64</td>\n",
       "      <td>163.57 x 800</td>\n",
       "      <td>163.93 x 800</td>\n",
       "      <td>19.73</td>\n",
       "      <td>1,741,214</td>\n",
       "      <td>2,743,432</td>\n",
       "      <td>91.879B</td>\n",
       "      <td>1.25</td>\n",
       "      <td>8.31</td>\n",
=======
       "      <td>N/A</td>\n",
       "      <td>N/A</td>\n",
       "      <td>N/A</td>\n",
       "      <td>N/A</td>\n",
       "      <td>N/A</td>\n",
       "      <td>N/A</td>\n",
       "      <td>N/A</td>\n",
       "      <td>N/A</td>\n",
       "      <td>N/A</td>\n",
       "      <td>N/A</td>\n",
>>>>>>> cf16f1ca8a5dd6a3ecabb16ff6fb8b855ca9f4fa
       "    </tr>\n",
       "    <tr>\n",
       "      <th>1</th>\n",
       "      <td>ABT</td>\n",
<<<<<<< HEAD
       "      <td>85.90</td>\n",
       "      <td>86.23</td>\n",
       "      <td>83.51 x 1400</td>\n",
       "      <td>85.95 x 1000</td>\n",
       "      <td>52.92</td>\n",
       "      <td>4,096,577</td>\n",
       "      <td>4,930,765</td>\n",
       "      <td>151.04B</td>\n",
       "      <td>0.81</td>\n",
       "      <td>1.63</td>\n",
=======
       "      <td>N/A</td>\n",
       "      <td>N/A</td>\n",
       "      <td>N/A</td>\n",
       "      <td>N/A</td>\n",
       "      <td>N/A</td>\n",
       "      <td>N/A</td>\n",
       "      <td>N/A</td>\n",
       "      <td>N/A</td>\n",
       "      <td>N/A</td>\n",
       "      <td>N/A</td>\n",
>>>>>>> cf16f1ca8a5dd6a3ecabb16ff6fb8b855ca9f4fa
       "    </tr>\n",
       "    <tr>\n",
       "      <th>2</th>\n",
       "      <td>ABBV</td>\n",
<<<<<<< HEAD
       "      <td>67.03</td>\n",
       "      <td>67.26</td>\n",
       "      <td>67.69 x 1100</td>\n",
       "      <td>67.69 x 800</td>\n",
       "      <td>24.69</td>\n",
       "      <td>7,117,616</td>\n",
       "      <td>10,961,262</td>\n",
       "      <td>98.051B</td>\n",
       "      <td>0.70</td>\n",
       "      <td>2.74</td>\n",
=======
       "      <td>N/A</td>\n",
       "      <td>N/A</td>\n",
       "      <td>N/A</td>\n",
       "      <td>N/A</td>\n",
       "      <td>N/A</td>\n",
       "      <td>N/A</td>\n",
       "      <td>N/A</td>\n",
       "      <td>N/A</td>\n",
       "      <td>N/A</td>\n",
       "      <td>N/A</td>\n",
>>>>>>> cf16f1ca8a5dd6a3ecabb16ff6fb8b855ca9f4fa
       "    </tr>\n",
       "    <tr>\n",
       "      <th>3</th>\n",
       "      <td>ABMD</td>\n",
<<<<<<< HEAD
       "      <td>190.25</td>\n",
       "      <td>191.00</td>\n",
       "      <td>182.38 x 800</td>\n",
       "      <td>191.69 x 800</td>\n",
       "      <td>33.89</td>\n",
       "      <td>227,496</td>\n",
       "      <td>575,640</td>\n",
       "      <td>8.723B</td>\n",
       "      <td>1.19</td>\n",
       "      <td>5.59</td>\n",
=======
       "      <td>N/A</td>\n",
       "      <td>N/A</td>\n",
       "      <td>N/A</td>\n",
       "      <td>N/A</td>\n",
       "      <td>N/A</td>\n",
       "      <td>N/A</td>\n",
       "      <td>N/A</td>\n",
       "      <td>N/A</td>\n",
       "      <td>N/A</td>\n",
       "      <td>N/A</td>\n",
>>>>>>> cf16f1ca8a5dd6a3ecabb16ff6fb8b855ca9f4fa
       "    </tr>\n",
       "    <tr>\n",
       "      <th>4</th>\n",
       "      <td>ACN</td>\n",
<<<<<<< HEAD
       "      <td>199.49</td>\n",
       "      <td>200.00</td>\n",
       "      <td>201.07 x 800</td>\n",
       "      <td>201.22 x 800</td>\n",
       "      <td>27.95</td>\n",
       "      <td>2,043,143</td>\n",
       "      <td>1,800,134</td>\n",
       "      <td>127.474B</td>\n",
       "      <td>0.99</td>\n",
       "      <td>7.20</td>\n",
=======
       "      <td>N/A</td>\n",
       "      <td>N/A</td>\n",
       "      <td>N/A</td>\n",
       "      <td>N/A</td>\n",
       "      <td>N/A</td>\n",
       "      <td>N/A</td>\n",
       "      <td>N/A</td>\n",
       "      <td>N/A</td>\n",
       "      <td>N/A</td>\n",
       "      <td>N/A</td>\n",
>>>>>>> cf16f1ca8a5dd6a3ecabb16ff6fb8b855ca9f4fa
       "    </tr>\n",
       "    <tr>\n",
       "      <th>5</th>\n",
       "      <td>ATVI</td>\n",
<<<<<<< HEAD
       "      <td>54.58</td>\n",
       "      <td>54.67</td>\n",
       "      <td>54.51 x 2900</td>\n",
       "      <td>54.84 x 2900</td>\n",
       "      <td>24.92</td>\n",
       "      <td>6,561,432</td>\n",
       "      <td>6,726,975</td>\n",
       "      <td>38.812B</td>\n",
       "      <td>0.92</td>\n",
       "      <td>2.19</td>\n",
=======
       "      <td>N/A</td>\n",
       "      <td>N/A</td>\n",
       "      <td>N/A</td>\n",
       "      <td>N/A</td>\n",
       "      <td>N/A</td>\n",
       "      <td>N/A</td>\n",
       "      <td>N/A</td>\n",
       "      <td>N/A</td>\n",
       "      <td>N/A</td>\n",
       "      <td>N/A</td>\n",
>>>>>>> cf16f1ca8a5dd6a3ecabb16ff6fb8b855ca9f4fa
       "    </tr>\n",
       "    <tr>\n",
       "      <th>6</th>\n",
       "      <td>ADBE</td>\n",
<<<<<<< HEAD
       "      <td>287.75</td>\n",
       "      <td>288.20</td>\n",
       "      <td>284.80 x 800</td>\n",
       "      <td>284.76 x 1200</td>\n",
       "      <td>53.25</td>\n",
       "      <td>2,273,061</td>\n",
       "      <td>2,454,968</td>\n",
       "      <td>136.764B</td>\n",
       "      <td>1.10</td>\n",
       "      <td>5.35</td>\n",
=======
       "      <td>N/A</td>\n",
       "      <td>N/A</td>\n",
       "      <td>N/A</td>\n",
       "      <td>N/A</td>\n",
       "      <td>N/A</td>\n",
       "      <td>N/A</td>\n",
       "      <td>N/A</td>\n",
       "      <td>N/A</td>\n",
       "      <td>N/A</td>\n",
       "      <td>N/A</td>\n",
>>>>>>> cf16f1ca8a5dd6a3ecabb16ff6fb8b855ca9f4fa
       "    </tr>\n",
       "    <tr>\n",
       "      <th>7</th>\n",
       "      <td>AMD</td>\n",
<<<<<<< HEAD
       "      <td>31.50</td>\n",
       "      <td>31.50</td>\n",
       "      <td>30.64 x 42300</td>\n",
       "      <td>30.65 x 45900</td>\n",
       "      <td>168.84</td>\n",
       "      <td>51,672,982</td>\n",
       "      <td>64,190,457</td>\n",
       "      <td>33.122B</td>\n",
       "      <td>3.18</td>\n",
       "      <td>0.18</td>\n",
=======
       "      <td>N/A</td>\n",
       "      <td>N/A</td>\n",
       "      <td>N/A</td>\n",
       "      <td>N/A</td>\n",
       "      <td>N/A</td>\n",
       "      <td>N/A</td>\n",
       "      <td>N/A</td>\n",
       "      <td>N/A</td>\n",
       "      <td>N/A</td>\n",
       "      <td>N/A</td>\n",
>>>>>>> cf16f1ca8a5dd6a3ecabb16ff6fb8b855ca9f4fa
       "    </tr>\n",
       "    <tr>\n",
       "      <th>8</th>\n",
       "      <td>AAP</td>\n",
<<<<<<< HEAD
       "      <td>146.55</td>\n",
       "      <td>146.89</td>\n",
       "      <td>144.00 x 800</td>\n",
       "      <td>149.95 x 800</td>\n",
       "      <td>24.58</td>\n",
       "      <td>767,034</td>\n",
       "      <td>1,184,956</td>\n",
       "      <td>9.892B</td>\n",
       "      <td>1.11</td>\n",
       "      <td>5.99</td>\n",
=======
       "      <td>N/A</td>\n",
       "      <td>N/A</td>\n",
       "      <td>N/A</td>\n",
       "      <td>N/A</td>\n",
       "      <td>N/A</td>\n",
       "      <td>N/A</td>\n",
       "      <td>N/A</td>\n",
       "      <td>N/A</td>\n",
       "      <td>N/A</td>\n",
       "      <td>N/A</td>\n",
>>>>>>> cf16f1ca8a5dd6a3ecabb16ff6fb8b855ca9f4fa
       "    </tr>\n",
       "    <tr>\n",
       "      <th>9</th>\n",
       "      <td>AES</td>\n",
<<<<<<< HEAD
       "      <td>15.44</td>\n",
       "      <td>15.53</td>\n",
       "      <td>15.30 x 4000</td>\n",
       "      <td>15.31 x 800</td>\n",
       "      <td>25.52</td>\n",
       "      <td>3,209,998</td>\n",
       "      <td>4,846,975</td>\n",
       "      <td>10.091B</td>\n",
       "      <td>0.72</td>\n",
       "      <td>0.60</td>\n",
=======
       "      <td>N/A</td>\n",
       "      <td>N/A</td>\n",
       "      <td>N/A</td>\n",
       "      <td>N/A</td>\n",
       "      <td>N/A</td>\n",
       "      <td>N/A</td>\n",
       "      <td>N/A</td>\n",
       "      <td>N/A</td>\n",
       "      <td>N/A</td>\n",
       "      <td>N/A</td>\n",
>>>>>>> cf16f1ca8a5dd6a3ecabb16ff6fb8b855ca9f4fa
       "    </tr>\n",
       "    <tr>\n",
       "      <th>10</th>\n",
       "      <td>AMG</td>\n",
<<<<<<< HEAD
       "      <td>78.74</td>\n",
       "      <td>78.76</td>\n",
       "      <td>78.63 x 3000</td>\n",
       "      <td>78.66 x 1300</td>\n",
       "      <td>N/A</td>\n",
       "      <td>434,757</td>\n",
       "      <td>505,423</td>\n",
       "      <td>3.875B</td>\n",
       "      <td>1.69</td>\n",
       "      <td>-2.48</td>\n",
=======
       "      <td>N/A</td>\n",
       "      <td>N/A</td>\n",
       "      <td>N/A</td>\n",
       "      <td>N/A</td>\n",
       "      <td>N/A</td>\n",
       "      <td>N/A</td>\n",
       "      <td>N/A</td>\n",
       "      <td>N/A</td>\n",
       "      <td>N/A</td>\n",
       "      <td>N/A</td>\n",
>>>>>>> cf16f1ca8a5dd6a3ecabb16ff6fb8b855ca9f4fa
       "    </tr>\n",
       "    <tr>\n",
       "      <th>11</th>\n",
       "      <td>AFL</td>\n",
<<<<<<< HEAD
       "      <td>51.13</td>\n",
       "      <td>51.30</td>\n",
       "      <td>49.01 x 800</td>\n",
       "      <td>51.61 x 1000</td>\n",
       "      <td>12.57</td>\n",
       "      <td>3,126,863</td>\n",
       "      <td>3,218,093</td>\n",
       "      <td>37.472B</td>\n",
       "      <td>0.51</td>\n",
       "      <td>4.10</td>\n",
=======
       "      <td>N/A</td>\n",
       "      <td>N/A</td>\n",
       "      <td>N/A</td>\n",
       "      <td>N/A</td>\n",
       "      <td>N/A</td>\n",
       "      <td>N/A</td>\n",
       "      <td>N/A</td>\n",
       "      <td>N/A</td>\n",
       "      <td>N/A</td>\n",
       "      <td>N/A</td>\n",
>>>>>>> cf16f1ca8a5dd6a3ecabb16ff6fb8b855ca9f4fa
       "    </tr>\n",
       "  </tbody>\n",
       "</table>\n",
       "</div>"
      ],
      "text/plain": [
<<<<<<< HEAD
       "   Company Previous Close    Open            Bid            Ask PE Ratio  \\\n",
       "0      MMM         164.23  164.64   163.57 x 800   163.93 x 800    19.73   \n",
       "1      ABT          85.90   86.23   83.51 x 1400   85.95 x 1000    52.92   \n",
       "2     ABBV          67.03   67.26   67.69 x 1100    67.69 x 800    24.69   \n",
       "3     ABMD         190.25  191.00   182.38 x 800   191.69 x 800    33.89   \n",
       "4      ACN         199.49  200.00   201.07 x 800   201.22 x 800    27.95   \n",
       "5     ATVI          54.58   54.67   54.51 x 2900   54.84 x 2900    24.92   \n",
       "6     ADBE         287.75  288.20   284.80 x 800  284.76 x 1200    53.25   \n",
       "7      AMD          31.50   31.50  30.64 x 42300  30.65 x 45900   168.84   \n",
       "8      AAP         146.55  146.89   144.00 x 800   149.95 x 800    24.58   \n",
       "9      AES          15.44   15.53   15.30 x 4000    15.31 x 800    25.52   \n",
       "10     AMG          78.74   78.76   78.63 x 3000   78.66 x 1300      N/A   \n",
       "11     AFL          51.13   51.30    49.01 x 800   51.61 x 1000    12.57   \n",
       "\n",
       "        Volume Avg. Volume Market Cap  Beta EPS (TTM)  \n",
       "0    1,741,214   2,743,432    91.879B  1.25      8.31  \n",
       "1    4,096,577   4,930,765    151.04B  0.81      1.63  \n",
       "2    7,117,616  10,961,262    98.051B  0.70      2.74  \n",
       "3      227,496     575,640     8.723B  1.19      5.59  \n",
       "4    2,043,143   1,800,134   127.474B  0.99      7.20  \n",
       "5    6,561,432   6,726,975    38.812B  0.92      2.19  \n",
       "6    2,273,061   2,454,968   136.764B  1.10      5.35  \n",
       "7   51,672,982  64,190,457    33.122B  3.18      0.18  \n",
       "8      767,034   1,184,956     9.892B  1.11      5.99  \n",
       "9    3,209,998   4,846,975    10.091B  0.72      0.60  \n",
       "10     434,757     505,423     3.875B  1.69     -2.48  \n",
       "11   3,126,863   3,218,093    37.472B  0.51      4.10  "
      ]
     },
     "execution_count": 11,
=======
       "   Company Previous Close Open  Bid  Ask PE Ratio Volume Avg. Volume  \\\n",
       "0      MMM            N/A  N/A  N/A  N/A      N/A    N/A         N/A   \n",
       "1      ABT            N/A  N/A  N/A  N/A      N/A    N/A         N/A   \n",
       "2     ABBV            N/A  N/A  N/A  N/A      N/A    N/A         N/A   \n",
       "3     ABMD            N/A  N/A  N/A  N/A      N/A    N/A         N/A   \n",
       "4      ACN            N/A  N/A  N/A  N/A      N/A    N/A         N/A   \n",
       "5     ATVI            N/A  N/A  N/A  N/A      N/A    N/A         N/A   \n",
       "6     ADBE            N/A  N/A  N/A  N/A      N/A    N/A         N/A   \n",
       "7      AMD            N/A  N/A  N/A  N/A      N/A    N/A         N/A   \n",
       "8      AAP            N/A  N/A  N/A  N/A      N/A    N/A         N/A   \n",
       "9      AES            N/A  N/A  N/A  N/A      N/A    N/A         N/A   \n",
       "10     AMG            N/A  N/A  N/A  N/A      N/A    N/A         N/A   \n",
       "11     AFL            N/A  N/A  N/A  N/A      N/A    N/A         N/A   \n",
       "\n",
       "   Market Cap Beta EPS (TTM)  \n",
       "0         N/A  N/A       N/A  \n",
       "1         N/A  N/A       N/A  \n",
       "2         N/A  N/A       N/A  \n",
       "3         N/A  N/A       N/A  \n",
       "4         N/A  N/A       N/A  \n",
       "5         N/A  N/A       N/A  \n",
       "6         N/A  N/A       N/A  \n",
       "7         N/A  N/A       N/A  \n",
       "8         N/A  N/A       N/A  \n",
       "9         N/A  N/A       N/A  \n",
       "10        N/A  N/A       N/A  \n",
       "11        N/A  N/A       N/A  "
      ]
     },
     "execution_count": 105,
>>>>>>> cf16f1ca8a5dd6a3ecabb16ff6fb8b855ca9f4fa
     "metadata": {},
     "output_type": "execute_result"
    }
   ],
   "source": [
    "data.update(Indicators)\n",
    "data_df = pd.DataFrame(data)\n",
    "data_df.head(12)"
   ]
  },
  {
<<<<<<< HEAD
=======
   "cell_type": "code",
   "execution_count": null,
   "metadata": {},
   "outputs": [],
   "source": [
    "for company in data[\"Company\"]:\n",
    "    url= 'https://finance.yahoo.com/quote/'+ company\n",
    "    yahooResponse = rq.get(url).text\n",
    "    for ind in Indicators:\n",
    "        try:\n",
    "            splitlist = yahooResponse.split(ind)[1]\n",
    "            afterFirstSplit = splitList.split('\">')[2]\n",
    "            afterSecondSplit = afterFirstSplit.split('<')\n",
    "            Indicators[ind].append(afterSecondSplit[0])\n",
    "        except:\n",
    "            Indicators[ind].append(\"N/A\")"
   ]
  },
  {
>>>>>>> cf16f1ca8a5dd6a3ecabb16ff6fb8b855ca9f4fa
   "cell_type": "markdown",
   "metadata": {},
   "source": [
    "#### cleanup ask and bid columns"
   ]
  },
  {
   "cell_type": "code",
<<<<<<< HEAD
   "execution_count": 22,
   "metadata": {},
   "outputs": [
    {
     "data": {
      "text/plain": [
       "'54.84 x 2900'"
      ]
     },
     "execution_count": 22,
     "metadata": {},
     "output_type": "execute_result"
    }
   ],
   "source": [
    "data_df.Ask[5] "
=======
   "execution_count": null,
   "metadata": {},
   "outputs": [],
   "source": [
    "data_df.Ask[10]"
>>>>>>> cf16f1ca8a5dd6a3ecabb16ff6fb8b855ca9f4fa
   ]
  },
  {
   "cell_type": "code",
<<<<<<< HEAD
   "execution_count": 37,
   "metadata": {},
   "outputs": [
    {
     "ename": "ModuleNotFoundError",
     "evalue": "No module named 'webdrivermanager'",
     "output_type": "error",
     "traceback": [
      "\u001b[1;31m---------------------------------------------------------------------------\u001b[0m",
      "\u001b[1;31mModuleNotFoundError\u001b[0m                       Traceback (most recent call last)",
      "\u001b[1;32m<ipython-input-37-d200796d2bba>\u001b[0m in \u001b[0;36m<module>\u001b[1;34m\u001b[0m\n\u001b[0;32m      1\u001b[0m \u001b[1;32mimport\u001b[0m \u001b[0mdatetime\u001b[0m\u001b[1;33m\u001b[0m\u001b[1;33m\u001b[0m\u001b[0m\n\u001b[0;32m      2\u001b[0m \u001b[1;32mimport\u001b[0m \u001b[0mdateutil\u001b[0m\u001b[1;33m\u001b[0m\u001b[1;33m\u001b[0m\u001b[0m\n\u001b[1;32m----> 3\u001b[1;33m \u001b[1;32mimport\u001b[0m \u001b[0mwebdrivermanager\u001b[0m\u001b[1;33m\u001b[0m\u001b[1;33m\u001b[0m\u001b[0m\n\u001b[0m\u001b[0;32m      4\u001b[0m \u001b[1;33m\u001b[0m\u001b[0m\n",
      "\u001b[1;31mModuleNotFoundError\u001b[0m: No module named 'webdrivermanager'"
     ]
    }
   ],
   "source": [
    "import datetime\n",
    "import dateutil\n",
    "import webdrivermanager\n",
    "\n"
   ]
=======
   "execution_count": null,
   "metadata": {},
   "outputs": [],
   "source": []
>>>>>>> cf16f1ca8a5dd6a3ecabb16ff6fb8b855ca9f4fa
  },
  {
   "cell_type": "code",
   "execution_count": null,
   "metadata": {},
   "outputs": [],
   "source": [
    "data_df.head(12)"
   ]
  },
  {
   "cell_type": "code",
<<<<<<< HEAD
   "execution_count": 32,
   "metadata": {},
   "outputs": [
    {
     "data": {
      "text/plain": [
       "3    33.89\n",
       "4    27.95\n",
       "5    24.92\n",
       "6    53.25\n",
       "Name: PE Ratio, dtype: object"
      ]
     },
     "execution_count": 32,
     "metadata": {},
     "output_type": "execute_result"
    }
   ],
   "source": [
    "data_df.iloc[3:7,5]"
   ]
=======
   "execution_count": null,
   "metadata": {},
   "outputs": [],
   "source": []
>>>>>>> cf16f1ca8a5dd6a3ecabb16ff6fb8b855ca9f4fa
  },
  {
   "cell_type": "code",
   "execution_count": null,
   "metadata": {},
   "outputs": [],
   "source": [
    "data_df.head(60)"
   ]
  },
  {
   "cell_type": "markdown",
   "metadata": {},
   "source": []
  },
  {
   "cell_type": "code",
   "execution_count": null,
   "metadata": {},
   "outputs": [],
   "source": [
    "print(data_df.iloc[0:1,0:4])\n",
    "\n",
    "\n",
    "data2 = data_df\n",
    "for key in data2:\n",
    "    print(key)\n",
    "    data2.loc[data2[key] == \"N/A\", key]=0\n",
    "    \n",
    "data2.Open[0:5]=\"yuck\"\n",
    "data2.head(15)"
   ]
<<<<<<< HEAD
  },
  {
   "cell_type": "code",
   "execution_count": null,
   "metadata": {},
   "outputs": [],
   "source": [
    "for i in range(len(data_df)):\n",
    "    data_df.Ask[i]=data_df.Ask[i].split(' ')[0]\n",
    "for i in range(len(data_df)):\n",
    "    data_df.Bid[i]=data_df.Bid[i].split(' ')[0]"
   ]
=======
>>>>>>> cf16f1ca8a5dd6a3ecabb16ff6fb8b855ca9f4fa
  }
 ],
 "metadata": {
  "kernelspec": {
   "display_name": "Python 3",
   "language": "python",
   "name": "python3"
  },
  "language_info": {
   "codemirror_mode": {
    "name": "ipython",
    "version": 3
   },
   "file_extension": ".py",
   "mimetype": "text/x-python",
   "name": "python",
   "nbconvert_exporter": "python",
   "pygments_lexer": "ipython3",
<<<<<<< HEAD
   "version": "3.7.3"
  },
  "varInspector": {
   "cols": {
    "lenName": 16,
    "lenType": 16,
    "lenVar": 40
   },
   "kernels_config": {
    "python": {
     "delete_cmd_postfix": "",
     "delete_cmd_prefix": "del ",
     "library": "var_list.py",
     "varRefreshCmd": "print(var_dic_list())"
    },
    "r": {
     "delete_cmd_postfix": ") ",
     "delete_cmd_prefix": "rm(",
     "library": "var_list.r",
     "varRefreshCmd": "cat(var_dic_list()) "
    }
   },
   "position": {
    "height": "508.892px",
    "left": "1270.28px",
    "right": "20px",
    "top": "112px",
    "width": "456.335px"
   },
   "types_to_exclude": [
    "module",
    "function",
    "builtin_function_or_method",
    "instance",
    "_Feature"
   ],
   "window_display": false
=======
   "version": "3.6.5"
>>>>>>> cf16f1ca8a5dd6a3ecabb16ff6fb8b855ca9f4fa
  }
 },
 "nbformat": 4,
 "nbformat_minor": 4
}
