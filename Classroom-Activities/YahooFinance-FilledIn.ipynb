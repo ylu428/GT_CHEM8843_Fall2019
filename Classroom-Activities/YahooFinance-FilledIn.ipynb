{
 "cells": [
  {
   "cell_type": "code",
   "execution_count": 12,
   "metadata": {},
   "outputs": [],
   "source": [
    "import requests\n",
    "import pandas as pd\n",
    "import numpy as np"
   ]
  },
  {
   "cell_type": "code",
   "execution_count": 13,
   "metadata": {},
   "outputs": [],
   "source": [
    "Indicators = {'Previous Close':[],\n",
    "              'Open':[],\n",
    "              'Bid':[],\n",
    "              'Ask':[],\n",
    "              'PE Ratio':[],\n",
    "              'Volume':[],\n",
    "              \"Avg. Volume\":[],\n",
    "              'Market Cap':[],\n",
    "              'Beta':[],\n",
    "              'EPS (TTM)':[]}"
   ]
  },
  {
   "cell_type": "code",
   "execution_count": 14,
   "metadata": {},
   "outputs": [],
   "source": [
    "data = {\"Company\":[]} ### create dictionary to hold ticker symbols\n",
    "wikiURL = 'https://en.wikipedia.org/wiki/List_of_S%26P_500_companies'\n",
    "wikiResponse = requests.get(wikiURL)##use requests library to retreive info from webpage\n",
    "tst = wikiResponse.text #just get the text from the requests object\n",
    "text = tst.split(\"<tr>\")"
   ]
  },
  {
   "cell_type": "code",
   "execution_count": 15,
   "metadata": {},
   "outputs": [],
   "source": [
    "for i in range(2,507):\n",
    "    tick=text[i].split('\">')\n",
    "    ticker = tick[1].split('<')\n",
    "    data[\"Company\"].append(ticker[0])## append each ticker symbol to our dictionary"
   ]
  },
  {
   "cell_type": "code",
   "execution_count": null,
   "metadata": {},
   "outputs": [],
   "source": [
    "for company in data[\"Company\"]:\n",
    "    url = 'https://finance.yahoo.com/quote/'+company+'?p='+company\n",
    "    yahooResponse = requests.get(url).text\n",
    "    for ind in Indicators:\n",
    "        try:\n",
    "            splitList = yahooResponse.split(ind)\n",
    "            afterFirstSplit = splitList[1].split('\">')[2] ## we want element 2 of this array\n",
    "            afterSecSplit = afterFirstSplit.split('</span>')## this should isolate the value we want\n",
    "            dataVal = afterSecSplit[0]\n",
    "            Indicators[ind].append(dataVal)\n",
    "        except:\n",
    "            Indicators[ind].append('N/A')\n",
    "#            Indicators[ind].append(np.nan())\n",
    "\n"
   ]
  },
  {
   "cell_type": "code",
   "execution_count": 6,
   "metadata": {},
   "outputs": [
    {
     "data": {
      "text/plain": [
       "{'Previous Close': ['160.07', '84.22', '66.38'],\n",
       " 'Open': ['162.50', '85.00', '66.64'],\n",
       " 'Bid': ['164.44 x 1000', '85.45 x 800', '67.05 x 900'],\n",
       " 'Ask': ['164.47 x 800', '85.47 x 900', '67.06 x 800'],\n",
       " 'PE Ratio': ['19.79', '52.60', '24.51'],\n",
       " 'Volume': ['1,424,733', '1,667,526', '3,232,313'],\n",
       " 'Avg. Volume': ['2,783,428', '4,968,982', '10,878,962'],\n",
       " 'Market Cap': ['92.171B', '151.157B', '99.265B'],\n",
       " 'Beta': ['1.25', '0.81', '0.70'],\n",
       " 'EPS (TTM)': ['8.31', '1.63', '2.74']}"
      ]
     },
     "execution_count": 6,
     "metadata": {},
     "output_type": "execute_result"
    }
   ],
   "source": [
    "#Indicators"
   ]
  },
  {
   "cell_type": "markdown",
   "metadata": {},
   "source": [
    "### Update dictionary and create pandas dataframe:\n"
   ]
  },
  {
   "cell_type": "code",
   "execution_count": null,
   "metadata": {},
   "outputs": [],
   "source": [
    "data.update(Indicators)\n",
    "data_df = pd.DataFrame(data)\n",
    "data_df.head(12)"
   ]
  },
  {
   "cell_type": "code",
   "execution_count": null,
   "metadata": {},
   "outputs": [],
   "source": [
    "print(data_df.loc[0:3,\"Company\":\"Bid\"])## prints index and value (inclusive...) rows, columns\n",
    "print(data_df.iloc[0:4,0:4])\n",
    "print(data_df.iloc[0:1,0:4])## prints index ... rows, columnns, exclusive\n",
    "print(data_df.iloc[1,0])\n",
    "data2=data_df.copy() ## create copy... replace.\n",
    "for key in data2:\n",
    "    print(key)\n",
    "    data2.loc[data2[key] == 'N/A',key]=0"
   ]
  },
  {
   "cell_type": "code",
   "execution_count": null,
   "metadata": {},
   "outputs": [],
   "source": [
    "for i in range(len(data_df)):\n",
    "    data_df.Ask[i]=data_df.Ask[i].split(' ')[0]\n",
    "for i in range(len(data_df)):\n",
    "    data_df.Bid[i]=data_df.Bid[i].split(' ')[0]"
   ]
  },
  {
   "cell_type": "code",
   "execution_count": null,
   "metadata": {},
   "outputs": [],
   "source": []
  }
 ],
 "metadata": {
  "kernelspec": {
   "display_name": "Python 3",
   "language": "python",
   "name": "python3"
  },
  "language_info": {
   "codemirror_mode": {
    "name": "ipython",
    "version": 3
   },
   "file_extension": ".py",
   "mimetype": "text/x-python",
   "name": "python",
   "nbconvert_exporter": "python",
   "pygments_lexer": "ipython3",
   "version": "3.7.3"
  }
 },
 "nbformat": 4,
 "nbformat_minor": 2
}
