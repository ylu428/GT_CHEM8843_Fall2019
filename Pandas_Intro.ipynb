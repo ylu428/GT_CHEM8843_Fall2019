{
 "cells": [
  {
   "cell_type": "markdown",
   "metadata": {
    "slideshow": {
     "slide_type": "slide"
    }
   },
   "source": [
    "## Pandas dataframes\n",
    "\n",
    "Pandas dataframes are a very convenient way to interact with low-dimensional structured data. The basic dataframe object acts very similarly to an Excel file, but data can be manipulated with Python rather than clumsy Excel functions."
   ]
  },
  {
   "cell_type": "code",
   "execution_count": null,
   "metadata": {
    "slideshow": {
     "slide_type": "fragment"
    }
   },
   "outputs": [],
   "source": [
    "%matplotlib inline\n",
    "import pandas as pd\n",
    "\n",
    "#Look at csv file \n",
    "df = pd.read_csv('/Users/robertdickson/Documents/datasets/oceanic_data-brewer.csv',skiprows=32)\n",
    "#df['DATE']\n",
    "#df"
   ]
  },
  {
   "cell_type": "markdown",
   "metadata": {
    "slideshow": {
     "slide_type": "subslide"
    }
   },
   "source": [
    "Pandas dataframes are a cross between dictionaries and numpy arrays. Unlike arrays, they are allowed to hold multiple types, and they index columns and rows based on \"keys\" rather than numbers:"
   ]
  },
  {
   "cell_type": "code",
   "execution_count": null,
   "metadata": {
    "slideshow": {
     "slide_type": "fragment"
    }
   },
   "outputs": [],
   "source": [
    "#print(df.index) #row names\n",
    "print(df.columns) # column names\n",
    "#print(type(df.values)) #all data\n",
    "#print(df.dtypes)"
   ]
  },
  {
   "cell_type": "markdown",
   "metadata": {
    "slideshow": {
     "slide_type": "subslide"
    }
   },
   "source": [
    "It is easy to view and summarize data with the dataframe object:"
   ]
  },
  {
   "cell_type": "code",
   "execution_count": null,
   "metadata": {},
   "outputs": [],
   "source": [
    "df.head(5)\n",
    "#df.tail(10)\n",
    "#df"
   ]
  },
  {
   "cell_type": "markdown",
   "metadata": {
    "slideshow": {
     "slide_type": "subslide"
    }
   },
   "source": [
    "Data can be accessed in several ways:\n",
    "\n",
    "* Columns can be accessed directly with keys. \n",
    "* The `loc` method enables numpy-like indexing, fancy indexing, and slicing. \n",
    "* The `iloc` method is similar to `loc`, but indexes by position (rather than key)\n",
    "\n",
    "These methods return `pandas.Series` objects, that are basically 1D dataframes."
   ]
  },
  {
   "cell_type": "code",
   "execution_count": null,
   "metadata": {
    "slideshow": {
     "slide_type": "fragment"
    }
   },
   "outputs": [],
   "source": [
    "#df['LATITUDE']\n",
    "#df.loc[1,'LATITUDE']\n",
    "df.loc[6]\n",
    "#df.loc[:,['LATITUDE','LONGITUDE']]\n",
    "#df.iloc[:,7]"
   ]
  },
  {
   "cell_type": "markdown",
   "metadata": {
    "slideshow": {
     "slide_type": "subslide"
    }
   },
   "source": [
    "Columns can be deleted in three ways:\n",
    "\n",
    "* del : delete the Series from the dataframe\n",
    "* pop() : delete the Series and return the Series\n",
    "* drop(labels, axis) : return a new dataframe with Series removed (do not modify original df)\n",
    "\n",
    "Rows must be \"dropped\".\n",
    "\n",
    "**Pay attention to whether operations are \"in place\" or not**. Many `pandas` operations are *not* \"in place\" by default. This means that they return a copy of the dataframe with modifications, rather than modifying the original dataframe object. This can be very confusing."
   ]
  },
  {
   "cell_type": "code",
   "execution_count": null,
   "metadata": {
    "slideshow": {
     "slide_type": "fragment"
    }
   },
   "outputs": [],
   "source": [
    "#Delete column\n",
    "times = df.pop('TIME')\n",
    "print(times)\n",
    "del df['EXPOCODE']\n",
    "dfnew = df.drop('CASTNO', axis=1)\n",
    "\n",
    "#Delete row\n",
    "df2 = df.drop(df.index[0])\n",
    "df2 = df2.drop(df.index[-1])\n",
    "df2.head(3)"
   ]
  },
  {
   "cell_type": "markdown",
   "metadata": {
    "slideshow": {
     "slide_type": "subslide"
    }
   },
   "source": [
    "Let's simplify this data into only the columns that we care about:"
   ]
  },
  {
   "cell_type": "code",
   "execution_count": null,
   "metadata": {
    "slideshow": {
     "slide_type": "fragment"
    }
   },
   "outputs": [],
   "source": [
    "interesting = ['DATE','LATITUDE','LONGITUDE','DEPTH','SALNTY','OXYGEN','SILCAT','NITRAT','PHSPHT', 'ALKALI']\n",
    "df = df[interesting]\n",
    "df = df.drop(df.index[0])\n",
    "df = df.drop(df.index[-1])\n",
    "df"
   ]
  },
  {
   "cell_type": "markdown",
   "metadata": {
    "slideshow": {
     "slide_type": "subslide"
    }
   },
   "source": [
    "It looks like there are some artifacts since a concentration of -999.0 does not make sense. We can get rid of these using \"boolean indexing\":"
   ]
  },
  {
   "cell_type": "code",
   "execution_count": null,
   "metadata": {
    "slideshow": {
     "slide_type": "fragment"
    }
   },
   "outputs": [],
   "source": [
    "df.dtypes\n",
    "df = df.astype('float')\n",
    "df.dtypes\n",
    "conc = ['OXYGEN','SILCAT','NITRAT','PHSPHT', 'ALKALI']\n",
    "for var in conc:\n",
    "    df = df[df[var] >= 0] #only take rows where concentration is >=0\n",
    "\n",
    "df = df.reset_index() #<- THIS IS IMPORTANT!!!\n",
    "df"
   ]
  },
  {
   "cell_type": "markdown",
   "metadata": {
    "slideshow": {
     "slide_type": "subslide"
    }
   },
   "source": [
    "This could also be achieved with OpenRefine. There is often no right way to do things in data science, so pick whatever feels easiest or most intuitive.\n",
    "\n",
    "Note that the dates were not parsed correctly. We can fix this with a loop and assign the proper dates to the DATE column:"
   ]
  },
  {
   "cell_type": "code",
   "execution_count": null,
   "metadata": {
    "slideshow": {
     "slide_type": "fragment"
    }
   },
   "outputs": [],
   "source": [
    "def convert_DATE(date_col):\n",
    "    dates = []\n",
    "    for dt in date_col:\n",
    "        dt = str(int(dt))\n",
    "        y,m,d = dt[:4], dt[4:6], dt[6:]\n",
    "        dates.append('-'.join([y,m,d]))\n",
    "    print(len(dates))\n",
    "    dates = pd.Series(dates)\n",
    "    dates = pd.to_datetime(dates,yearfirst=True)\n",
    "    return dates\n",
    "\n",
    "dates = convert_DATE(df['DATE'])\n",
    "df['DATE'] = dates # [(0, date0), (1, date1) ... ]"
   ]
  },
  {
   "cell_type": "code",
   "execution_count": null,
   "metadata": {},
   "outputs": [],
   "source": [
    "df.head(10)"
   ]
  },
  {
   "cell_type": "markdown",
   "metadata": {
    "slideshow": {
     "slide_type": "subslide"
    }
   },
   "source": [
    "Pandas dataframes have some handy plotting features built in:"
   ]
  },
  {
   "cell_type": "code",
   "execution_count": null,
   "metadata": {
    "slideshow": {
     "slide_type": "fragment"
    }
   },
   "outputs": [],
   "source": [
    "print(conc)\n",
    "df[conc].plot()\n",
    "df_sorted = df.sort_values('PHSPHT')\n",
    "df_sorted.plot(x='PHSPHT',y='SILCAT')\n",
    "df_sorted.hist('SILCAT')"
   ]
  },
  {
   "cell_type": "markdown",
   "metadata": {
    "slideshow": {
     "slide_type": "subslide"
    }
   },
   "source": [
    "Pandas allows easily indexing by different columns:"
   ]
  },
  {
   "cell_type": "code",
   "execution_count": null,
   "metadata": {
    "slideshow": {
     "slide_type": "fragment"
    }
   },
   "outputs": [],
   "source": [
    "df2 = df.set_index('DATE')\n",
    "df2['1981-06-03':'1981-09-07']"
   ]
  },
  {
   "cell_type": "markdown",
   "metadata": {
    "slideshow": {
     "slide_type": "slide"
    }
   },
   "source": [
    "## Pandas multi-indexing\n",
    "\n",
    "Pandas multi-indexing allows multi-dimensional `DataFrame` objects that act like different sheets/files in Excel. This is very useful for creating \"mini databases\" that allow organization of complex data with multiple dimensions.\n",
    "\n",
    "Let's consider another dataset similar to the one we just worked with:"
   ]
  },
  {
   "cell_type": "code",
   "execution_count": null,
   "metadata": {
    "slideshow": {
     "slide_type": "fragment"
    }
   },
   "outputs": [],
   "source": [
    "new_df = pd.read_csv('datasets/oceanic_data-morliere.csv',skiprows=35)\n",
    "#quickly clean up the data:\n",
    "new_df = new_df[interesting]\n",
    "new_df = new_df.drop(0)\n",
    "new_df = new_df.astype('float')\n",
    "for var in conc:\n",
    "    new_df = new_df[new_df[var] > 0]\n",
    "new_df = new_df.reset_index()\n",
    "dates = convert_DATE(new_df['DATE'])\n",
    "new_df['DATE'] = dates\n",
    "new_df = new_df.set_index('DATE')\n",
    "new_df"
   ]
  },
  {
   "cell_type": "markdown",
   "metadata": {
    "slideshow": {
     "slide_type": "subslide"
    }
   },
   "source": [
    "Now we might want to create a DateFrame that contains both sets of data, but index them by the scientist that collected the data (Brewer and Morliere). This can be achieved with the Multi Index functionality:"
   ]
  },
  {
   "cell_type": "code",
   "execution_count": null,
   "metadata": {},
   "outputs": [],
   "source": [
    "brewer = df2\n",
    "morliere = new_df\n",
    "full = pd.concat({'Brewer':brewer, 'Morliere':morliere})\n",
    "#print(full.columns)\n",
    "full = full.T\n",
    "#print(full.columns)\n",
    "x = full['Morliere'].T['1993-02'] #<- get all measurements by Brewer in May 1981\n",
    "print(x.columns)\n",
    "x.head(10)"
   ]
  },
  {
   "cell_type": "markdown",
   "metadata": {},
   "source": [
    "It is easy to convert from a `pandas` dataframe back to a `numpy` array (assuming all values are numerical):"
   ]
  },
  {
   "cell_type": "code",
   "execution_count": null,
   "metadata": {},
   "outputs": [],
   "source": [
    "x.values"
   ]
  }
 ],
 "metadata": {
  "kernelspec": {
   "display_name": "Python 3",
   "language": "python",
   "name": "python3"
  },
  "language_info": {
   "codemirror_mode": {
    "name": "ipython",
    "version": 3
   },
   "file_extension": ".py",
   "mimetype": "text/x-python",
   "name": "python",
   "nbconvert_exporter": "python",
   "pygments_lexer": "ipython3",
   "version": "3.7.3"
  }
 },
 "nbformat": 4,
 "nbformat_minor": 4
}
