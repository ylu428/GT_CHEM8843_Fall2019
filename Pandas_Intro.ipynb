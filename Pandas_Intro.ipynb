{
 "cells": [
  {
   "cell_type": "markdown",
   "metadata": {
    "slideshow": {
     "slide_type": "slide"
    }
   },
   "source": [
    "## Pandas dataframes\n",
    "\n",
    "Pandas dataframes are a very convenient way to interact with low-dimensional structured data. The basic dataframe object acts very similarly to an Excel file, but data can be manipulated with Python rather than clumsy Excel functions."
   ]
  },
  {
   "cell_type": "code",
   "execution_count": 6,
   "metadata": {
    "slideshow": {
     "slide_type": "fragment"
    }
   },
   "outputs": [],
   "source": [
    "%matplotlib inline\n",
    "import pandas as pd\n",
    "\n",
    "#Look at csv file \n",
    "df = pd.read_csv('/Users/asus/F19-4803DR-8843DR/oceanic_data-brewer.csv',skiprows=32)\n",
    "#df['DATE']\n",
    "#df"
   ]
  },
  {
   "cell_type": "markdown",
   "metadata": {
    "slideshow": {
     "slide_type": "subslide"
    }
   },
   "source": [
    "Pandas dataframes are a cross between dictionaries and numpy arrays. Unlike arrays, they are allowed to hold multiple types, and they index columns and rows based on \"keys\" rather than numbers:"
   ]
  },
  {
   "cell_type": "code",
   "execution_count": 7,
   "metadata": {
    "slideshow": {
     "slide_type": "fragment"
    }
   },
   "outputs": [
    {
     "name": "stdout",
     "output_type": "stream",
     "text": [
      "Index(['EXPOCODE', 'STNNBR', 'CASTNO', 'BTLNBR', 'BTLNBR_FLAG_W', 'DATE',\n",
      "       'TIME', 'LATITUDE', 'LONGITUDE', 'DEPTH', 'CTDPRS', 'CTDTMP',\n",
      "       'CTDTMP_FLAG_W', 'SALNTY', 'SALNTY_FLAG_W', 'OXYGEN', 'OXYGEN_FLAG_W',\n",
      "       'SILCAT', 'SILCAT_FLAG_W', 'NITRAT', 'NITRAT_FLAG_W', 'NITRIT',\n",
      "       'NITRIT_FLAG_W', 'PHSPHT', 'PHSPHT_FLAG_W', 'TCARBN', 'TCARBN_FLAG_W',\n",
      "       'ALKALI', 'ALKALI_FLAG_W', 'TRITUM', 'TRITER', 'HELIUM', 'DELHE3',\n",
      "       'DELC14', 'C14ERR', 'DELC14_FLAG_W', 'RA-226', 'RA-226E',\n",
      "       'RA-226_FLAG_W', 'RA-228', 'RA-228E', 'RA-228_FLAG_W', 'RA-8/6',\n",
      "       'RA-8/6E', 'RA-8/6_FLAG_W', 'THETA'],\n",
      "      dtype='object')\n"
     ]
    }
   ],
   "source": [
    "#print(df.index) #row names\n",
    "print(df.columns) # column names\n",
    "#print(type(df.values)) #all data\n",
    "#print(df.dtypes)"
   ]
  },
  {
   "cell_type": "markdown",
   "metadata": {
    "slideshow": {
     "slide_type": "subslide"
    }
   },
   "source": [
    "It is easy to view and summarize data with the dataframe object:"
   ]
  },
  {
   "cell_type": "code",
   "execution_count": 11,
   "metadata": {},
   "outputs": [
    {
     "data": {
      "text/html": [
       "<div>\n",
       "<style scoped>\n",
       "    .dataframe tbody tr th:only-of-type {\n",
       "        vertical-align: middle;\n",
       "    }\n",
       "\n",
       "    .dataframe tbody tr th {\n",
       "        vertical-align: top;\n",
       "    }\n",
       "\n",
       "    .dataframe thead th {\n",
       "        text-align: right;\n",
       "    }\n",
       "</style>\n",
       "<table border=\"1\" class=\"dataframe\">\n",
       "  <thead>\n",
       "    <tr style=\"text-align: right;\">\n",
       "      <th></th>\n",
       "      <th>EXPOCODE</th>\n",
       "      <th>STNNBR</th>\n",
       "      <th>CASTNO</th>\n",
       "      <th>BTLNBR</th>\n",
       "      <th>BTLNBR_FLAG_W</th>\n",
       "      <th>DATE</th>\n",
       "      <th>TIME</th>\n",
       "      <th>LATITUDE</th>\n",
       "      <th>LONGITUDE</th>\n",
       "      <th>DEPTH</th>\n",
       "      <th>...</th>\n",
       "      <th>RA-226</th>\n",
       "      <th>RA-226E</th>\n",
       "      <th>RA-226_FLAG_W</th>\n",
       "      <th>RA-228</th>\n",
       "      <th>RA-228E</th>\n",
       "      <th>RA-228_FLAG_W</th>\n",
       "      <th>RA-8/6</th>\n",
       "      <th>RA-8/6E</th>\n",
       "      <th>RA-8/6_FLAG_W</th>\n",
       "      <th>THETA</th>\n",
       "    </tr>\n",
       "  </thead>\n",
       "  <tbody>\n",
       "    <tr>\n",
       "      <th>0</th>\n",
       "      <td>NaN</td>\n",
       "      <td>NaN</td>\n",
       "      <td>NaN</td>\n",
       "      <td>NaN</td>\n",
       "      <td>NaN</td>\n",
       "      <td>NaN</td>\n",
       "      <td>NaN</td>\n",
       "      <td>NaN</td>\n",
       "      <td>NaN</td>\n",
       "      <td>METERS</td>\n",
       "      <td>...</td>\n",
       "      <td>DPM/100KG</td>\n",
       "      <td>DPM/100KG</td>\n",
       "      <td>NaN</td>\n",
       "      <td>DPM/100KG</td>\n",
       "      <td>DPM/100KG</td>\n",
       "      <td>NaN</td>\n",
       "      <td>NaN</td>\n",
       "      <td>NaN</td>\n",
       "      <td>NaN</td>\n",
       "      <td>DEG C</td>\n",
       "    </tr>\n",
       "    <tr>\n",
       "      <th>1</th>\n",
       "      <td>TTONAS</td>\n",
       "      <td>1.0</td>\n",
       "      <td>2.0</td>\n",
       "      <td>27.0</td>\n",
       "      <td>2.0</td>\n",
       "      <td>19810402.0</td>\n",
       "      <td>0.0</td>\n",
       "      <td>39.805</td>\n",
       "      <td>-70.082</td>\n",
       "      <td>1172</td>\n",
       "      <td>...</td>\n",
       "      <td>-999.00</td>\n",
       "      <td>-999.00</td>\n",
       "      <td>-999.0</td>\n",
       "      <td>-999.00</td>\n",
       "      <td>-999.00</td>\n",
       "      <td>-999.0</td>\n",
       "      <td>-999.0</td>\n",
       "      <td>-999.0</td>\n",
       "      <td>-999.0</td>\n",
       "      <td>11.2656</td>\n",
       "    </tr>\n",
       "    <tr>\n",
       "      <th>2</th>\n",
       "      <td>TTONAS</td>\n",
       "      <td>1.0</td>\n",
       "      <td>2.0</td>\n",
       "      <td>28.0</td>\n",
       "      <td>2.0</td>\n",
       "      <td>19810402.0</td>\n",
       "      <td>0.0</td>\n",
       "      <td>39.805</td>\n",
       "      <td>-70.082</td>\n",
       "      <td>1172</td>\n",
       "      <td>...</td>\n",
       "      <td>-999.00</td>\n",
       "      <td>-999.00</td>\n",
       "      <td>-999.0</td>\n",
       "      <td>-999.00</td>\n",
       "      <td>-999.00</td>\n",
       "      <td>-999.0</td>\n",
       "      <td>-999.0</td>\n",
       "      <td>-999.0</td>\n",
       "      <td>-999.0</td>\n",
       "      <td>11.2142</td>\n",
       "    </tr>\n",
       "    <tr>\n",
       "      <th>3</th>\n",
       "      <td>TTONAS</td>\n",
       "      <td>1.0</td>\n",
       "      <td>2.0</td>\n",
       "      <td>29.0</td>\n",
       "      <td>2.0</td>\n",
       "      <td>19810402.0</td>\n",
       "      <td>0.0</td>\n",
       "      <td>39.805</td>\n",
       "      <td>-70.082</td>\n",
       "      <td>1172</td>\n",
       "      <td>...</td>\n",
       "      <td>-999.00</td>\n",
       "      <td>-999.00</td>\n",
       "      <td>-999.0</td>\n",
       "      <td>-999.00</td>\n",
       "      <td>-999.00</td>\n",
       "      <td>-999.0</td>\n",
       "      <td>-999.0</td>\n",
       "      <td>-999.0</td>\n",
       "      <td>-999.0</td>\n",
       "      <td>12.6338</td>\n",
       "    </tr>\n",
       "    <tr>\n",
       "      <th>4</th>\n",
       "      <td>TTONAS</td>\n",
       "      <td>1.0</td>\n",
       "      <td>2.0</td>\n",
       "      <td>30.0</td>\n",
       "      <td>2.0</td>\n",
       "      <td>19810402.0</td>\n",
       "      <td>0.0</td>\n",
       "      <td>39.805</td>\n",
       "      <td>-70.082</td>\n",
       "      <td>1172</td>\n",
       "      <td>...</td>\n",
       "      <td>-999.00</td>\n",
       "      <td>-999.00</td>\n",
       "      <td>-999.0</td>\n",
       "      <td>-999.00</td>\n",
       "      <td>-999.00</td>\n",
       "      <td>-999.0</td>\n",
       "      <td>-999.0</td>\n",
       "      <td>-999.0</td>\n",
       "      <td>-999.0</td>\n",
       "      <td>8.5224</td>\n",
       "    </tr>\n",
       "  </tbody>\n",
       "</table>\n",
       "<p>5 rows × 46 columns</p>\n",
       "</div>"
      ],
      "text/plain": [
       "         EXPOCODE  STNNBR  CASTNO  BTLNBR  BTLNBR_FLAG_W        DATE  TIME  \\\n",
       "0             NaN     NaN     NaN     NaN            NaN         NaN   NaN   \n",
       "1          TTONAS     1.0     2.0    27.0            2.0  19810402.0   0.0   \n",
       "2          TTONAS     1.0     2.0    28.0            2.0  19810402.0   0.0   \n",
       "3          TTONAS     1.0     2.0    29.0            2.0  19810402.0   0.0   \n",
       "4          TTONAS     1.0     2.0    30.0            2.0  19810402.0   0.0   \n",
       "\n",
       "   LATITUDE  LONGITUDE   DEPTH  ...     RA-226    RA-226E  RA-226_FLAG_W  \\\n",
       "0       NaN        NaN  METERS  ...  DPM/100KG  DPM/100KG            NaN   \n",
       "1    39.805    -70.082    1172  ...    -999.00    -999.00         -999.0   \n",
       "2    39.805    -70.082    1172  ...    -999.00    -999.00         -999.0   \n",
       "3    39.805    -70.082    1172  ...    -999.00    -999.00         -999.0   \n",
       "4    39.805    -70.082    1172  ...    -999.00    -999.00         -999.0   \n",
       "\n",
       "      RA-228    RA-228E RA-228_FLAG_W  RA-8/6 RA-8/6E  RA-8/6_FLAG_W  \\\n",
       "0  DPM/100KG  DPM/100KG           NaN     NaN     NaN            NaN   \n",
       "1    -999.00    -999.00        -999.0  -999.0  -999.0         -999.0   \n",
       "2    -999.00    -999.00        -999.0  -999.0  -999.0         -999.0   \n",
       "3    -999.00    -999.00        -999.0  -999.0  -999.0         -999.0   \n",
       "4    -999.00    -999.00        -999.0  -999.0  -999.0         -999.0   \n",
       "\n",
       "       THETA  \n",
       "0      DEG C  \n",
       "1    11.2656  \n",
       "2    11.2142  \n",
       "3    12.6338  \n",
       "4     8.5224  \n",
       "\n",
       "[5 rows x 46 columns]"
      ]
     },
     "execution_count": 11,
     "metadata": {},
     "output_type": "execute_result"
    }
   ],
   "source": [
    "df.head(5)\n",
    "# df.tail(10)\n",
    "#df"
   ]
  },
  {
   "cell_type": "markdown",
   "metadata": {
    "slideshow": {
     "slide_type": "subslide"
    }
   },
   "source": [
    "Data can be accessed in several ways:\n",
    "\n",
    "* Columns can be accessed directly with keys. \n",
    "* The `loc` method enables numpy-like indexing, fancy indexing, and slicing. \n",
    "* The `iloc` method is similar to `loc`, but indexes by position (rather than key)\n",
    "\n",
    "These methods return `pandas.Series` objects, that are basically 1D dataframes."
   ]
  },
  {
   "cell_type": "code",
   "execution_count": 10,
   "metadata": {
    "slideshow": {
     "slide_type": "fragment"
    }
   },
   "outputs": [
    {
     "data": {
      "text/plain": [
       "EXPOCODE                 TTONAS\n",
       "STNNBR                        1\n",
       "CASTNO                        2\n",
       "BTLNBR                       33\n",
       "BTLNBR_FLAG_W                 2\n",
       "DATE                1.98104e+07\n",
       "TIME                          0\n",
       "LATITUDE                 39.805\n",
       "LONGITUDE               -70.082\n",
       "DEPTH                      1172\n",
       "CTDPRS                    813.0\n",
       "CTDTMP                   4.5840\n",
       "CTDTMP_FLAG_W                 2\n",
       "SALNTY                  34.9630\n",
       "SALNTY_FLAG_W                 2\n",
       "OXYGEN                    250.0\n",
       "OXYGEN_FLAG_W                 2\n",
       "SILCAT                    12.50\n",
       "SILCAT_FLAG_W                 2\n",
       "NITRAT                    18.60\n",
       "NITRAT_FLAG_W                 2\n",
       "NITRIT                     0.00\n",
       "NITRIT_FLAG_W                 2\n",
       "PHSPHT                     1.22\n",
       "PHSPHT_FLAG_W                 2\n",
       "TCARBN                   2169.0\n",
       "TCARBN_FLAG_W                 2\n",
       "ALKALI                   2331.0\n",
       "ALKALI_FLAG_W                 2\n",
       "TRITUM                    2.470\n",
       "TRITER                    0.060\n",
       "HELIUM                  41.3100\n",
       "DELHE3                    44.80\n",
       "DELC14                   -999.0\n",
       "C14ERR                   -999.0\n",
       "DELC14_FLAG_W                 9\n",
       "RA-226                  -999.00\n",
       "RA-226E                 -999.00\n",
       "RA-226_FLAG_W              -999\n",
       "RA-228                  -999.00\n",
       "RA-228E                 -999.00\n",
       "RA-228_FLAG_W              -999\n",
       "RA-8/6                     -999\n",
       "RA-8/6E                    -999\n",
       "RA-8/6_FLAG_W              -999\n",
       "THETA                    4.5193\n",
       "Name: 6, dtype: object"
      ]
     },
     "execution_count": 10,
     "metadata": {},
     "output_type": "execute_result"
    }
   ],
   "source": [
    "#df['LATITUDE']\n",
    "#df.loc[1,'LATITUDE']\n",
    "df.loc[6]\n",
    "#df.loc[:,['LATITUDE','LONGITUDE']]\n",
    "#df.iloc[:,7]"
   ]
  },
  {
   "cell_type": "markdown",
   "metadata": {
    "slideshow": {
     "slide_type": "subslide"
    }
   },
   "source": [
    "Columns can be deleted in three ways:\n",
    "\n",
    "* del : delete the Series from the dataframe\n",
    "* pop() : delete the Series and return the Series\n",
    "* drop(labels, axis) : return a new dataframe with Series removed (do not modify original df)\n",
    "\n",
    "Rows must be \"dropped\".\n",
    "\n",
    "**Pay attention to whether operations are \"in place\" or not**. Many `pandas` operations are *not* \"in place\" by default. This means that they return a copy of the dataframe with modifications, rather than modifying the original dataframe object. This can be very confusing."
   ]
  },
  {
   "cell_type": "code",
   "execution_count": 12,
   "metadata": {
    "slideshow": {
     "slide_type": "fragment"
    }
   },
   "outputs": [
    {
     "name": "stdout",
     "output_type": "stream",
     "text": [
      "0       NaN\n",
      "1       0.0\n",
      "2       0.0\n",
      "3       0.0\n",
      "4       0.0\n",
      "5       0.0\n",
      "6       0.0\n",
      "7       0.0\n",
      "8       0.0\n",
      "9       0.0\n",
      "10      0.0\n",
      "11      0.0\n",
      "12      0.0\n",
      "13      0.0\n",
      "14      0.0\n",
      "15      0.0\n",
      "16      0.0\n",
      "17      0.0\n",
      "18      0.0\n",
      "19      0.0\n",
      "20      0.0\n",
      "21      0.0\n",
      "22      0.0\n",
      "23      0.0\n",
      "24      0.0\n",
      "25      0.0\n",
      "26      0.0\n",
      "27      0.0\n",
      "28      0.0\n",
      "29      0.0\n",
      "       ... \n",
      "9144    0.0\n",
      "9145    0.0\n",
      "9146    0.0\n",
      "9147    0.0\n",
      "9148    0.0\n",
      "9149    0.0\n",
      "9150    0.0\n",
      "9151    0.0\n",
      "9152    0.0\n",
      "9153    0.0\n",
      "9154    0.0\n",
      "9155    0.0\n",
      "9156    0.0\n",
      "9157    0.0\n",
      "9158    0.0\n",
      "9159    0.0\n",
      "9160    0.0\n",
      "9161    0.0\n",
      "9162    0.0\n",
      "9163    0.0\n",
      "9164    0.0\n",
      "9165    0.0\n",
      "9166    0.0\n",
      "9167    0.0\n",
      "9168    0.0\n",
      "9169    0.0\n",
      "9170    0.0\n",
      "9171    0.0\n",
      "9172    0.0\n",
      "9173    NaN\n",
      "Name: TIME, Length: 9174, dtype: float64\n"
     ]
    },
    {
     "data": {
      "text/html": [
       "<div>\n",
       "<style scoped>\n",
       "    .dataframe tbody tr th:only-of-type {\n",
       "        vertical-align: middle;\n",
       "    }\n",
       "\n",
       "    .dataframe tbody tr th {\n",
       "        vertical-align: top;\n",
       "    }\n",
       "\n",
       "    .dataframe thead th {\n",
       "        text-align: right;\n",
       "    }\n",
       "</style>\n",
       "<table border=\"1\" class=\"dataframe\">\n",
       "  <thead>\n",
       "    <tr style=\"text-align: right;\">\n",
       "      <th></th>\n",
       "      <th>STNNBR</th>\n",
       "      <th>CASTNO</th>\n",
       "      <th>BTLNBR</th>\n",
       "      <th>BTLNBR_FLAG_W</th>\n",
       "      <th>DATE</th>\n",
       "      <th>LATITUDE</th>\n",
       "      <th>LONGITUDE</th>\n",
       "      <th>DEPTH</th>\n",
       "      <th>CTDPRS</th>\n",
       "      <th>CTDTMP</th>\n",
       "      <th>...</th>\n",
       "      <th>RA-226</th>\n",
       "      <th>RA-226E</th>\n",
       "      <th>RA-226_FLAG_W</th>\n",
       "      <th>RA-228</th>\n",
       "      <th>RA-228E</th>\n",
       "      <th>RA-228_FLAG_W</th>\n",
       "      <th>RA-8/6</th>\n",
       "      <th>RA-8/6E</th>\n",
       "      <th>RA-8/6_FLAG_W</th>\n",
       "      <th>THETA</th>\n",
       "    </tr>\n",
       "  </thead>\n",
       "  <tbody>\n",
       "    <tr>\n",
       "      <th>1</th>\n",
       "      <td>1.0</td>\n",
       "      <td>2.0</td>\n",
       "      <td>27.0</td>\n",
       "      <td>2.0</td>\n",
       "      <td>19810402.0</td>\n",
       "      <td>39.805</td>\n",
       "      <td>-70.082</td>\n",
       "      <td>1172</td>\n",
       "      <td>11.0</td>\n",
       "      <td>11.2670</td>\n",
       "      <td>...</td>\n",
       "      <td>-999.00</td>\n",
       "      <td>-999.00</td>\n",
       "      <td>-999.0</td>\n",
       "      <td>-999.00</td>\n",
       "      <td>-999.00</td>\n",
       "      <td>-999.0</td>\n",
       "      <td>-999.0</td>\n",
       "      <td>-999.0</td>\n",
       "      <td>-999.0</td>\n",
       "      <td>11.2656</td>\n",
       "    </tr>\n",
       "    <tr>\n",
       "      <th>2</th>\n",
       "      <td>1.0</td>\n",
       "      <td>2.0</td>\n",
       "      <td>28.0</td>\n",
       "      <td>2.0</td>\n",
       "      <td>19810402.0</td>\n",
       "      <td>39.805</td>\n",
       "      <td>-70.082</td>\n",
       "      <td>1172</td>\n",
       "      <td>55.0</td>\n",
       "      <td>11.2210</td>\n",
       "      <td>...</td>\n",
       "      <td>-999.00</td>\n",
       "      <td>-999.00</td>\n",
       "      <td>-999.0</td>\n",
       "      <td>-999.00</td>\n",
       "      <td>-999.00</td>\n",
       "      <td>-999.0</td>\n",
       "      <td>-999.0</td>\n",
       "      <td>-999.0</td>\n",
       "      <td>-999.0</td>\n",
       "      <td>11.2142</td>\n",
       "    </tr>\n",
       "    <tr>\n",
       "      <th>3</th>\n",
       "      <td>1.0</td>\n",
       "      <td>2.0</td>\n",
       "      <td>29.0</td>\n",
       "      <td>2.0</td>\n",
       "      <td>19810402.0</td>\n",
       "      <td>39.805</td>\n",
       "      <td>-70.082</td>\n",
       "      <td>1172</td>\n",
       "      <td>156.0</td>\n",
       "      <td>12.6550</td>\n",
       "      <td>...</td>\n",
       "      <td>-999.00</td>\n",
       "      <td>-999.00</td>\n",
       "      <td>-999.0</td>\n",
       "      <td>-999.00</td>\n",
       "      <td>-999.00</td>\n",
       "      <td>-999.0</td>\n",
       "      <td>-999.0</td>\n",
       "      <td>-999.0</td>\n",
       "      <td>-999.0</td>\n",
       "      <td>12.6338</td>\n",
       "    </tr>\n",
       "  </tbody>\n",
       "</table>\n",
       "<p>3 rows × 44 columns</p>\n",
       "</div>"
      ],
      "text/plain": [
       "   STNNBR  CASTNO  BTLNBR  BTLNBR_FLAG_W        DATE  LATITUDE  LONGITUDE  \\\n",
       "1     1.0     2.0    27.0            2.0  19810402.0    39.805    -70.082   \n",
       "2     1.0     2.0    28.0            2.0  19810402.0    39.805    -70.082   \n",
       "3     1.0     2.0    29.0            2.0  19810402.0    39.805    -70.082   \n",
       "\n",
       "   DEPTH     CTDPRS     CTDTMP  ...     RA-226    RA-226E  RA-226_FLAG_W  \\\n",
       "1   1172       11.0    11.2670  ...    -999.00    -999.00         -999.0   \n",
       "2   1172       55.0    11.2210  ...    -999.00    -999.00         -999.0   \n",
       "3   1172      156.0    12.6550  ...    -999.00    -999.00         -999.0   \n",
       "\n",
       "      RA-228    RA-228E RA-228_FLAG_W  RA-8/6 RA-8/6E  RA-8/6_FLAG_W  \\\n",
       "1    -999.00    -999.00        -999.0  -999.0  -999.0         -999.0   \n",
       "2    -999.00    -999.00        -999.0  -999.0  -999.0         -999.0   \n",
       "3    -999.00    -999.00        -999.0  -999.0  -999.0         -999.0   \n",
       "\n",
       "       THETA  \n",
       "1    11.2656  \n",
       "2    11.2142  \n",
       "3    12.6338  \n",
       "\n",
       "[3 rows x 44 columns]"
      ]
     },
     "execution_count": 12,
     "metadata": {},
     "output_type": "execute_result"
    }
   ],
   "source": [
    "#Delete column\n",
    "times = df.pop('TIME')\n",
    "print(times)\n",
    "del df['EXPOCODE']\n",
    "dfnew = df.drop('CASTNO', axis=1)\n",
    "\n",
    "#Delete row\n",
    "df2 = df.drop(df.index[0])\n",
    "df2 = df2.drop(df.index[-1])\n",
    "df2.head(3)"
   ]
  },
  {
   "cell_type": "markdown",
   "metadata": {
    "slideshow": {
     "slide_type": "subslide"
    }
   },
   "source": [
    "Let's simplify this data into only the columns that we care about:"
   ]
  },
  {
   "cell_type": "code",
   "execution_count": null,
   "metadata": {
    "slideshow": {
     "slide_type": "fragment"
    }
   },
   "outputs": [],
   "source": [
    "interesting = ['DATE','LATITUDE','LONGITUDE','DEPTH','SALNTY','OXYGEN','SILCAT','NITRAT','PHSPHT', 'ALKALI']\n",
    "df = df[interesting]\n",
    "df = df.drop(df.index[0])\n",
    "df = df.drop(df.index[-1])\n",
    "df"
   ]
  },
  {
   "cell_type": "markdown",
   "metadata": {
    "slideshow": {
     "slide_type": "subslide"
    }
   },
   "source": [
    "It looks like there are some artifacts since a concentration of -999.0 does not make sense. We can get rid of these using \"boolean indexing\":"
   ]
  },
  {
   "cell_type": "code",
   "execution_count": null,
   "metadata": {
    "slideshow": {
     "slide_type": "fragment"
    }
   },
   "outputs": [],
   "source": [
    "df.dtypes\n",
    "df = df.astype('float')\n",
    "df.dtypes\n",
    "conc = ['OXYGEN','SILCAT','NITRAT','PHSPHT', 'ALKALI']\n",
    "for var in conc:\n",
    "    df = df[df[var] >= 0] #only take rows where concentration is >=0\n",
    "\n",
    "df = df.reset_index() #<- THIS IS IMPORTANT!!!\n",
    "df"
   ]
  },
  {
   "cell_type": "markdown",
   "metadata": {
    "slideshow": {
     "slide_type": "subslide"
    }
   },
   "source": [
    "This could also be achieved with OpenRefine. There is often no right way to do things in data science, so pick whatever feels easiest or most intuitive.\n",
    "\n",
    "Note that the dates were not parsed correctly. We can fix this with a loop and assign the proper dates to the DATE column:"
   ]
  },
  {
   "cell_type": "code",
   "execution_count": null,
   "metadata": {
    "slideshow": {
     "slide_type": "fragment"
    }
   },
   "outputs": [],
   "source": [
    "def convert_DATE(date_col):\n",
    "    dates = []\n",
    "    for dt in date_col:\n",
    "        dt = str(int(dt))\n",
    "        y,m,d = dt[:4], dt[4:6], dt[6:]\n",
    "        dates.append('-'.join([y,m,d]))\n",
    "    print(len(dates))\n",
    "    dates = pd.Series(dates)\n",
    "    dates = pd.to_datetime(dates,yearfirst=True)\n",
    "    return dates\n",
    "\n",
    "dates = convert_DATE(df['DATE'])\n",
    "df['DATE'] = dates # [(0, date0), (1, date1) ... ]"
   ]
  },
  {
   "cell_type": "code",
   "execution_count": null,
   "metadata": {},
   "outputs": [],
   "source": [
    "df.head(10)"
   ]
  },
  {
   "cell_type": "markdown",
   "metadata": {
    "slideshow": {
     "slide_type": "subslide"
    }
   },
   "source": [
    "Pandas dataframes have some handy plotting features built in:"
   ]
  },
  {
   "cell_type": "code",
   "execution_count": null,
   "metadata": {
    "slideshow": {
     "slide_type": "fragment"
    }
   },
   "outputs": [],
   "source": [
    "print(conc)\n",
    "df[conc].plot()\n",
    "df_sorted = df.sort_values('PHSPHT')\n",
    "df_sorted.plot(x='PHSPHT',y='SILCAT')\n",
    "df_sorted.hist('SILCAT')"
   ]
  },
  {
   "cell_type": "markdown",
   "metadata": {
    "slideshow": {
     "slide_type": "subslide"
    }
   },
   "source": [
    "Pandas allows easily indexing by different columns:"
   ]
  },
  {
   "cell_type": "code",
   "execution_count": null,
   "metadata": {
    "slideshow": {
     "slide_type": "fragment"
    }
   },
   "outputs": [],
   "source": [
    "df2 = df.set_index('DATE')\n",
    "df2['1981-06-03':'1981-09-07']"
   ]
  },
  {
   "cell_type": "markdown",
   "metadata": {
    "slideshow": {
     "slide_type": "slide"
    }
   },
   "source": [
    "## Pandas multi-indexing\n",
    "\n",
    "Pandas multi-indexing allows multi-dimensional `DataFrame` objects that act like different sheets/files in Excel. This is very useful for creating \"mini databases\" that allow organization of complex data with multiple dimensions.\n",
    "\n",
    "Let's consider another dataset similar to the one we just worked with:"
   ]
  },
  {
   "cell_type": "code",
   "execution_count": null,
   "metadata": {
    "slideshow": {
     "slide_type": "fragment"
    }
   },
   "outputs": [],
   "source": [
    "new_df = pd.read_csv('datasets/oceanic_data-morliere.csv',skiprows=35)\n",
    "#quickly clean up the data:\n",
    "new_df = new_df[interesting]\n",
    "new_df = new_df.drop(0)\n",
    "new_df = new_df.astype('float')\n",
    "for var in conc:\n",
    "    new_df = new_df[new_df[var] > 0]\n",
    "new_df = new_df.reset_index()\n",
    "dates = convert_DATE(new_df['DATE'])\n",
    "new_df['DATE'] = dates\n",
    "new_df = new_df.set_index('DATE')\n",
    "new_df"
   ]
  },
  {
   "cell_type": "markdown",
   "metadata": {
    "slideshow": {
     "slide_type": "subslide"
    }
   },
   "source": [
    "Now we might want to create a DateFrame that contains both sets of data, but index them by the scientist that collected the data (Brewer and Morliere). This can be achieved with the Multi Index functionality:"
   ]
  },
  {
   "cell_type": "code",
   "execution_count": null,
   "metadata": {},
   "outputs": [],
   "source": [
    "brewer = df2\n",
    "morliere = new_df\n",
    "full = pd.concat({'Brewer':brewer, 'Morliere':morliere})\n",
    "#print(full.columns)\n",
    "full = full.T\n",
    "#print(full.columns)\n",
    "x = full['Morliere'].T['1993-02'] #<- get all measurements by Brewer in May 1981\n",
    "print(x.columns)\n",
    "x.head(10)"
   ]
  },
  {
   "cell_type": "markdown",
   "metadata": {},
   "source": [
    "It is easy to convert from a `pandas` dataframe back to a `numpy` array (assuming all values are numerical):"
   ]
  },
  {
   "cell_type": "code",
   "execution_count": null,
   "metadata": {},
   "outputs": [],
   "source": [
    "x.values"
   ]
  }
 ],
 "metadata": {
  "kernelspec": {
   "display_name": "Python 3",
   "language": "python",
   "name": "python3"
  },
  "language_info": {
   "codemirror_mode": {
    "name": "ipython",
    "version": 3
   },
   "file_extension": ".py",
   "mimetype": "text/x-python",
   "name": "python",
   "nbconvert_exporter": "python",
   "pygments_lexer": "ipython3",
   "version": "3.7.3"
  },
  "varInspector": {
   "cols": {
    "lenName": 16,
    "lenType": 16,
    "lenVar": 40
   },
   "kernels_config": {
    "python": {
     "delete_cmd_postfix": "",
     "delete_cmd_prefix": "del ",
     "library": "var_list.py",
     "varRefreshCmd": "print(var_dic_list())"
    },
    "r": {
     "delete_cmd_postfix": ") ",
     "delete_cmd_prefix": "rm(",
     "library": "var_list.r",
     "varRefreshCmd": "cat(var_dic_list()) "
    }
   },
   "types_to_exclude": [
    "module",
    "function",
    "builtin_function_or_method",
    "instance",
    "_Feature"
   ],
   "window_display": false
  }
 },
 "nbformat": 4,
 "nbformat_minor": 4
}
